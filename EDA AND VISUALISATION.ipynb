{
    "cells": [
        {
            "cell_type": "markdown",
            "metadata": {},
            "source": [
                "# **SpaceX  Falcon 9 First Stage Landing Prediction**\n"
            ]
        },
        {
            "cell_type": "markdown",
            "metadata": {},
            "source": [
                "## Exploring and Preparing Data\n"
            ]
        },
        {
            "cell_type": "markdown",
            "metadata": {},
            "source": [
                "## Objectives\n",
                "\n",
                "Perform exploratory Data Analysis and Feature Engineering using `Pandas` and `Matplotlib`\n",
                "\n",
                "*   Exploratory Data Analysis\n",
                "*   Preparing Data  Feature Engineering\n"
            ]
        },
        {
            "cell_type": "markdown",
            "metadata": {},
            "source": [
                "***\n"
            ]
        },
        {
            "cell_type": "markdown",
            "metadata": {},
            "source": [
                "### Import Libraries and Define Auxiliary Functions\n"
            ]
        },
        {
            "cell_type": "markdown",
            "metadata": {},
            "source": [
                "We will import the following libraries the lab\n"
            ]
        },
        {
            "cell_type": "code",
            "execution_count": 18,
            "metadata": {},
            "outputs": [],
            "source": [
                "# andas is a software library written for the Python programming language for data manipulation and analysis.\n",
                "import pandas as pd\n",
                "#NumPy is a library for the Python programming language, adding support for large, multi-dimensional arrays and matrices, along with a large collection of high-level mathematical functions to operate on these arrays\n",
                "import numpy as np\n",
                "# Matplotlib is a plotting library for python and pyplot gives us a MatLab like plotting framework. We will use this in our plotter function to plot data.\n",
                "import matplotlib.pyplot as plt\n",
                "#Seaborn is a Python data visualization library based on matplotlib. It provides a high-level interface for drawing attractive and informative statistical graphics\n",
                "import seaborn as sns"
            ]
        },
        {
            "cell_type": "markdown",
            "metadata": {},
            "source": [
                "## Exploratory Data Analysis\n"
            ]
        },
        {
            "cell_type": "markdown",
            "metadata": {},
            "source": [
                "First, let's read the SpaceX dataset into a Pandas dataframe and print its summary\n"
            ]
        },
        {
            "cell_type": "code",
            "execution_count": 19,
            "metadata": {},
            "outputs": [
                {
                    "data": {
                        "text/html": [
                            "<div>\n",
                            "<style scoped>\n",
                            "    .dataframe tbody tr th:only-of-type {\n",
                            "        vertical-align: middle;\n",
                            "    }\n",
                            "\n",
                            "    .dataframe tbody tr th {\n",
                            "        vertical-align: top;\n",
                            "    }\n",
                            "\n",
                            "    .dataframe thead th {\n",
                            "        text-align: right;\n",
                            "    }\n",
                            "</style>\n",
                            "<table border=\"1\" class=\"dataframe\">\n",
                            "  <thead>\n",
                            "    <tr style=\"text-align: right;\">\n",
                            "      <th></th>\n",
                            "      <th>FlightNumber</th>\n",
                            "      <th>Date</th>\n",
                            "      <th>BoosterVersion</th>\n",
                            "      <th>PayloadMass</th>\n",
                            "      <th>Orbit</th>\n",
                            "      <th>LaunchSite</th>\n",
                            "      <th>Outcome</th>\n",
                            "      <th>Flights</th>\n",
                            "      <th>GridFins</th>\n",
                            "      <th>Reused</th>\n",
                            "      <th>Legs</th>\n",
                            "      <th>LandingPad</th>\n",
                            "      <th>Block</th>\n",
                            "      <th>ReusedCount</th>\n",
                            "      <th>Serial</th>\n",
                            "      <th>Longitude</th>\n",
                            "      <th>Latitude</th>\n",
                            "      <th>Class</th>\n",
                            "    </tr>\n",
                            "  </thead>\n",
                            "  <tbody>\n",
                            "    <tr>\n",
                            "      <th>0</th>\n",
                            "      <td>1</td>\n",
                            "      <td>2010-06-04</td>\n",
                            "      <td>Falcon 9</td>\n",
                            "      <td>6123.547647</td>\n",
                            "      <td>LEO</td>\n",
                            "      <td>CCSFS SLC 40</td>\n",
                            "      <td>None None</td>\n",
                            "      <td>1</td>\n",
                            "      <td>False</td>\n",
                            "      <td>False</td>\n",
                            "      <td>False</td>\n",
                            "      <td>NaN</td>\n",
                            "      <td>1.0</td>\n",
                            "      <td>0</td>\n",
                            "      <td>B0003</td>\n",
                            "      <td>-80.577366</td>\n",
                            "      <td>28.561857</td>\n",
                            "      <td>0</td>\n",
                            "    </tr>\n",
                            "    <tr>\n",
                            "      <th>1</th>\n",
                            "      <td>2</td>\n",
                            "      <td>2012-05-22</td>\n",
                            "      <td>Falcon 9</td>\n",
                            "      <td>525.000000</td>\n",
                            "      <td>LEO</td>\n",
                            "      <td>CCSFS SLC 40</td>\n",
                            "      <td>None None</td>\n",
                            "      <td>1</td>\n",
                            "      <td>False</td>\n",
                            "      <td>False</td>\n",
                            "      <td>False</td>\n",
                            "      <td>NaN</td>\n",
                            "      <td>1.0</td>\n",
                            "      <td>0</td>\n",
                            "      <td>B0005</td>\n",
                            "      <td>-80.577366</td>\n",
                            "      <td>28.561857</td>\n",
                            "      <td>0</td>\n",
                            "    </tr>\n",
                            "    <tr>\n",
                            "      <th>2</th>\n",
                            "      <td>3</td>\n",
                            "      <td>2013-03-01</td>\n",
                            "      <td>Falcon 9</td>\n",
                            "      <td>677.000000</td>\n",
                            "      <td>ISS</td>\n",
                            "      <td>CCSFS SLC 40</td>\n",
                            "      <td>None None</td>\n",
                            "      <td>1</td>\n",
                            "      <td>False</td>\n",
                            "      <td>False</td>\n",
                            "      <td>False</td>\n",
                            "      <td>NaN</td>\n",
                            "      <td>1.0</td>\n",
                            "      <td>0</td>\n",
                            "      <td>B0007</td>\n",
                            "      <td>-80.577366</td>\n",
                            "      <td>28.561857</td>\n",
                            "      <td>0</td>\n",
                            "    </tr>\n",
                            "    <tr>\n",
                            "      <th>3</th>\n",
                            "      <td>4</td>\n",
                            "      <td>2013-09-29</td>\n",
                            "      <td>Falcon 9</td>\n",
                            "      <td>500.000000</td>\n",
                            "      <td>PO</td>\n",
                            "      <td>VAFB SLC 4E</td>\n",
                            "      <td>False Ocean</td>\n",
                            "      <td>1</td>\n",
                            "      <td>False</td>\n",
                            "      <td>False</td>\n",
                            "      <td>False</td>\n",
                            "      <td>NaN</td>\n",
                            "      <td>1.0</td>\n",
                            "      <td>0</td>\n",
                            "      <td>B1003</td>\n",
                            "      <td>-120.610829</td>\n",
                            "      <td>34.632093</td>\n",
                            "      <td>0</td>\n",
                            "    </tr>\n",
                            "    <tr>\n",
                            "      <th>4</th>\n",
                            "      <td>5</td>\n",
                            "      <td>2013-12-03</td>\n",
                            "      <td>Falcon 9</td>\n",
                            "      <td>3170.000000</td>\n",
                            "      <td>GTO</td>\n",
                            "      <td>CCSFS SLC 40</td>\n",
                            "      <td>None None</td>\n",
                            "      <td>1</td>\n",
                            "      <td>False</td>\n",
                            "      <td>False</td>\n",
                            "      <td>False</td>\n",
                            "      <td>NaN</td>\n",
                            "      <td>1.0</td>\n",
                            "      <td>0</td>\n",
                            "      <td>B1004</td>\n",
                            "      <td>-80.577366</td>\n",
                            "      <td>28.561857</td>\n",
                            "      <td>0</td>\n",
                            "    </tr>\n",
                            "  </tbody>\n",
                            "</table>\n",
                            "</div>"
                        ],
                        "text/plain": [
                            "   FlightNumber        Date BoosterVersion  PayloadMass Orbit    LaunchSite  \\\n",
                            "0             1  2010-06-04       Falcon 9  6123.547647   LEO  CCSFS SLC 40   \n",
                            "1             2  2012-05-22       Falcon 9   525.000000   LEO  CCSFS SLC 40   \n",
                            "2             3  2013-03-01       Falcon 9   677.000000   ISS  CCSFS SLC 40   \n",
                            "3             4  2013-09-29       Falcon 9   500.000000    PO   VAFB SLC 4E   \n",
                            "4             5  2013-12-03       Falcon 9  3170.000000   GTO  CCSFS SLC 40   \n",
                            "\n",
                            "       Outcome  Flights  GridFins  Reused   Legs LandingPad  Block  \\\n",
                            "0    None None        1     False   False  False        NaN    1.0   \n",
                            "1    None None        1     False   False  False        NaN    1.0   \n",
                            "2    None None        1     False   False  False        NaN    1.0   \n",
                            "3  False Ocean        1     False   False  False        NaN    1.0   \n",
                            "4    None None        1     False   False  False        NaN    1.0   \n",
                            "\n",
                            "   ReusedCount Serial   Longitude   Latitude  Class  \n",
                            "0            0  B0003  -80.577366  28.561857      0  \n",
                            "1            0  B0005  -80.577366  28.561857      0  \n",
                            "2            0  B0007  -80.577366  28.561857      0  \n",
                            "3            0  B1003 -120.610829  34.632093      0  \n",
                            "4            0  B1004  -80.577366  28.561857      0  "
                        ]
                    },
                    "execution_count": 19,
                    "metadata": {},
                    "output_type": "execute_result"
                }
            ],
            "source": [
                "df=pd.read_csv(\"dataset_part_2.csv\")\n",
                "\n",
                "df.head(5)"
            ]
        },
        {
            "cell_type": "markdown",
            "metadata": {},
            "source": [
                "First, let's try to see how the `FlightNumber` (indicating the continuous launch attempts.) and `Payload` variables would affect the launch outcome.\n",
                "\n",
                "We can plot out the <code>FlightNumber</code> vs. <code>PayloadMass</code>and overlay the outcome of the launch. We see that as the flight number increases, the first stage is more likely to land successfully. The payload mass is also important; it seems the more massive the payload, the less likely the first stage will return.\n"
            ]
        },
        {
            "cell_type": "code",
            "execution_count": 20,
            "metadata": {},
            "outputs": [
                {
                    "data": {
                        "image/png": "[encoded data removed]",
                        "text/plain": [
                            "<Figure size 1482.38x360 with 1 Axes>"
                        ]
                    },
                    "metadata": {
                        "needs_background": "light"
                    },
                    "output_type": "display_data"
                }
            ],
            "source": [
                "sns.catplot(y=\"PayloadMass\", x=\"FlightNumber\", hue=\"Class\", data=df, aspect = 4)\n",
                "plt.xlabel(\"Flight Number\",fontsize=20)\n",
                "plt.ylabel(\"Pay load Mass (kg)\",fontsize=20)\n",
                "plt.show()"
            ]
        },
        {
            "cell_type": "markdown",
            "metadata": {},
            "source": [
                "We see that different launch sites have different success rates.  <code>CCAFS LC-40</code>, has a success rate of 60 %, while  <code>KSC LC-39A</code> and <code>VAFB SLC 4E</code> has a success rate of 77%.\n"
            ]
        },
        {
            "cell_type": "markdown",
            "metadata": {},
            "source": [
                "Next, let's drill down to each site visualize its detailed launch records.\n"
            ]
        },
        {
            "cell_type": "markdown",
            "metadata": {},
            "source": [
                "###  Visualize the relationship between Flight Number and Launch Site\n"
            ]
        },
        {
            "cell_type": "code",
            "execution_count": 21,
            "metadata": {},
            "outputs": [
                {
                    "data": {
                        "image/png": "[encoded data removed]",
                        "text/plain": [
                            "<Figure size 762.375x360 with 1 Axes>"
                        ]
                    },
                    "metadata": {
                        "needs_background": "light"
                    },
                    "output_type": "display_data"
                }
            ],
            "source": [
                "# Plot a scatter point chart with x axis to be Flight Number and y axis to be the launch site, and hue to be the class value\n",
                "sns.catplot(y=\"LaunchSite\", x=\"FlightNumber\", hue=\"Class\", data=df, aspect = 2)\n",
                "plt.xlabel(\"Flight Number\",fontsize=20)\n",
                "plt.ylabel(\"launch site\",fontsize=20)\n",
                "plt.show()"
            ]
        },
        {
            "cell_type": "markdown",
            "metadata": {},
            "source": [
                "###  Visualize the relationship between Payload and Launch Site\n"
            ]
        },
        {
            "cell_type": "markdown",
            "metadata": {},
            "source": [
                "We also want to observe if there is any relationship between launch sites and their payload mass.\n"
            ]
        },
        {
            "cell_type": "code",
            "execution_count": 22,
            "metadata": {},
            "outputs": [
                {
                    "data": {
                        "image/png": "[encoded data removed]",
                        "text/plain": [
                            "<Figure size 762.375x360 with 1 Axes>"
                        ]
                    },
                    "metadata": {
                        "needs_background": "light"
                    },
                    "output_type": "display_data"
                }
            ],
            "source": [
                "# Plot a scatter point chart with x axis to be Pay Load Mass (kg) and y axis to be the launch site, and hue to be the class value\n",
                "sns.catplot(y=\"LaunchSite\", x=\"PayloadMass\", hue=\"Class\", data=df, aspect = 2)\n",
                "plt.xlabel(\"Pay Load Mass (kg)\",fontsize=20)\n",
                "plt.ylabel(\"launch site\",fontsize=20)\n",
                "plt.show()"
            ]
        },
        {
            "cell_type": "markdown",
            "metadata": {},
            "source": [
                "Now if you observe Payload Vs. Launch Site scatter point chart you will find for the VAFB-SLC  launchsite there are no  rockets  launched for  heavypayload mass(greater than 10000).\n"
            ]
        },
        {
            "cell_type": "markdown",
            "metadata": {},
            "source": [
                "###  Visualize the relationship between success rate of each orbit type\n"
            ]
        },
        {
            "cell_type": "markdown",
            "metadata": {},
            "source": [
                "Next, we want to visually check if there are any relationship between success rate and orbit type.\n"
            ]
        },
        {
            "cell_type": "markdown",
            "metadata": {},
            "source": [
                "Let's create a `bar chart` for the sucess rate of each orbit\n"
            ]
        },
        {
            "cell_type": "code",
            "execution_count": 23,
            "metadata": {},
            "outputs": [
                {
                    "data": {
                        "text/plain": [
                            "<AxesSubplot:xlabel='Orbit', ylabel='Success rate'>"
                        ]
                    },
                    "execution_count": 23,
                    "metadata": {},
                    "output_type": "execute_result"
                },
                {
                    "data": {
                        "image/png": "[encoded data removed]",
                        "text/plain": [
                            "<Figure size 432x288 with 1 Axes>"
                        ]
                    },
                    "metadata": {
                        "needs_background": "light"
                    },
                    "output_type": "display_data"
                }
            ],
            "source": [
                "# HINT use groupby method on Orbit column and get the mean of Class column\n",
                "\n",
                "success = df.groupby('Orbit')['Class'].mean()\n",
                "\n",
                "success.plot(kind='bar', ylabel='Success rate')\n",
                "\n"
            ]
        },
        {
            "cell_type": "markdown",
            "metadata": {},
            "source": [
                "###  Visualize the relationship between FlightNumber and Orbit type\n"
            ]
        },
        {
            "cell_type": "markdown",
            "metadata": {},
            "source": [
                "For each orbit, we want to see if there is any relationship between FlightNumber and Orbit type.\n"
            ]
        },
        {
            "cell_type": "code",
            "execution_count": 24,
            "metadata": {},
            "outputs": [
                {
                    "data": {
                        "image/png": "[encoded data removed]",
                        "text/plain": [
                            "<Figure size 762.375x360 with 1 Axes>"
                        ]
                    },
                    "metadata": {
                        "needs_background": "light"
                    },
                    "output_type": "display_data"
                }
            ],
            "source": [
                "\n",
                "sns.catplot(y=\"Orbit\", x=\"FlightNumber\", hue=\"Class\", data=df, aspect = 2)\n",
                "plt.xlabel(\"FlightNumber\",fontsize=20)\n",
                "plt.ylabel(\"Orbit\",fontsize=20)\n",
                "plt.show()"
            ]
        },
        {
            "cell_type": "markdown",
            "metadata": {},
            "source": [
                "we see that in the LEO orbit the Success appears related to the number of flights; on the other hand, there seems to be no relationship between flight number when in GTO orbit.\n"
            ]
        },
        {
            "cell_type": "markdown",
            "metadata": {},
            "source": [
                "###  Visualize the relationship between Payload and Orbit type\n"
            ]
        },
        {
            "cell_type": "markdown",
            "metadata": {},
            "source": [
                "Similarly, we can plot the Payload vs. Orbit scatter point charts to reveal the relationship between Payload and Orbit type\n"
            ]
        },
        {
            "cell_type": "code",
            "execution_count": 25,
            "metadata": {},
            "outputs": [
                {
                    "data": {
                        "image/png": "[encoded data removed]",
                        "text/plain": [
                            "<Figure size 762.375x360 with 1 Axes>"
                        ]
                    },
                    "metadata": {
                        "needs_background": "light"
                    },
                    "output_type": "display_data"
                }
            ],
            "source": [
                "# Plot a scatter point chart with x axis to be Payload and y axis to be the Orbit, and hue to be the class value\n",
                "sns.catplot(y=\"Orbit\", x=\"PayloadMass\", hue=\"Class\", data=df, aspect = 2)\n",
                "plt.xlabel(\"PayloadMass\",fontsize=20)\n",
                "plt.ylabel(\"Orbit\",fontsize=20)\n",
                "plt.show()"
            ]
        },
        {
            "cell_type": "markdown",
            "metadata": {},
            "source": [
                "With heavy payloads the successful landing or positive landing rate are more for Polar,LEO and ISS.\n",
                "\n",
                "However for GTO we cannot distinguish this well as both positive landing rate and negative landing(unsuccessful mission) are both there here.\n"
            ]
        },
        {
            "cell_type": "markdown",
            "metadata": {},
            "source": [
                "### Visualize the launch success yearly trend\n"
            ]
        },
        {
            "cell_type": "markdown",
            "metadata": {},
            "source": [
                "The function will help you get the year from the date:\n"
            ]
        },
        {
            "cell_type": "code",
            "execution_count": 26,
            "metadata": {},
            "outputs": [],
            "source": [
                "# A function to Extract years from the date \n",
                "year=[]\n",
                "def Extract_year(date):\n",
                "    for i in df[\"Date\"]:\n",
                "        year.append(i.split(\"-\")[0])\n",
                "    return year\n",
                "    "
            ]
        },
        {
            "cell_type": "code",
            "execution_count": 27,
            "metadata": {},
            "outputs": [
                {
                    "data": {
                        "text/html": [
                            "<div>\n",
                            "<style scoped>\n",
                            "    .dataframe tbody tr th:only-of-type {\n",
                            "        vertical-align: middle;\n",
                            "    }\n",
                            "\n",
                            "    .dataframe tbody tr th {\n",
                            "        vertical-align: top;\n",
                            "    }\n",
                            "\n",
                            "    .dataframe thead th {\n",
                            "        text-align: right;\n",
                            "    }\n",
                            "</style>\n",
                            "<table border=\"1\" class=\"dataframe\">\n",
                            "  <thead>\n",
                            "    <tr style=\"text-align: right;\">\n",
                            "      <th></th>\n",
                            "      <th>year</th>\n",
                            "      <th>Class</th>\n",
                            "    </tr>\n",
                            "  </thead>\n",
                            "  <tbody>\n",
                            "    <tr>\n",
                            "      <th>0</th>\n",
                            "      <td>2010</td>\n",
                            "      <td>0</td>\n",
                            "    </tr>\n",
                            "    <tr>\n",
                            "      <th>1</th>\n",
                            "      <td>2012</td>\n",
                            "      <td>0</td>\n",
                            "    </tr>\n",
                            "    <tr>\n",
                            "      <th>2</th>\n",
                            "      <td>2013</td>\n",
                            "      <td>0</td>\n",
                            "    </tr>\n",
                            "    <tr>\n",
                            "      <th>3</th>\n",
                            "      <td>2013</td>\n",
                            "      <td>0</td>\n",
                            "    </tr>\n",
                            "    <tr>\n",
                            "      <th>4</th>\n",
                            "      <td>2013</td>\n",
                            "      <td>0</td>\n",
                            "    </tr>\n",
                            "  </tbody>\n",
                            "</table>\n",
                            "</div>"
                        ],
                        "text/plain": [
                            "   year  Class\n",
                            "0  2010      0\n",
                            "1  2012      0\n",
                            "2  2013      0\n",
                            "3  2013      0\n",
                            "4  2013      0"
                        ]
                    },
                    "execution_count": 27,
                    "metadata": {},
                    "output_type": "execute_result"
                }
            ],
            "source": [
                "list = Extract_year(df['Date'])\n",
                "df1 = pd.DataFrame(list, columns = ['year'])\n",
                "\n",
                "df1.head()\n",
                "\n",
                "df1['Class']=df['Class']\n",
                "df1.head()"
            ]
        },
        {
            "cell_type": "code",
            "execution_count": 28,
            "metadata": {},
            "outputs": [
                {
                    "data": {
                        "image/png": "[encoded data removed]",
                        "text/plain": [
                            "<Figure size 432x288 with 1 Axes>"
                        ]
                    },
                    "metadata": {
                        "needs_background": "light"
                    },
                    "output_type": "display_data"
                }
            ],
            "source": [
                "\n",
                "sns.lineplot(y=\"Class\", x=\"year\",data=df1)\n",
                "plt.xlabel(\"Year\",fontsize=20)\n",
                "plt.ylabel(\"Success rate\",fontsize=20)\n",
                "plt.show()\n"
            ]
        },
        {
            "cell_type": "markdown",
            "metadata": {},
            "source": [
                "you can observe that the sucess rate since 2013 kept increasing till 2020\n"
            ]
        },
        {
            "cell_type": "markdown",
            "metadata": {},
            "source": [
                "## Features Engineering\n"
            ]
        },
        {
            "cell_type": "code",
            "execution_count": 29,
            "metadata": {},
            "outputs": [
                {
                    "data": {
                        "text/html": [
                            "<div>\n",
                            "<style scoped>\n",
                            "    .dataframe tbody tr th:only-of-type {\n",
                            "        vertical-align: middle;\n",
                            "    }\n",
                            "\n",
                            "    .dataframe tbody tr th {\n",
                            "        vertical-align: top;\n",
                            "    }\n",
                            "\n",
                            "    .dataframe thead th {\n",
                            "        text-align: right;\n",
                            "    }\n",
                            "</style>\n",
                            "<table border=\"1\" class=\"dataframe\">\n",
                            "  <thead>\n",
                            "    <tr style=\"text-align: right;\">\n",
                            "      <th></th>\n",
                            "      <th>FlightNumber</th>\n",
                            "      <th>PayloadMass</th>\n",
                            "      <th>Orbit</th>\n",
                            "      <th>LaunchSite</th>\n",
                            "      <th>Flights</th>\n",
                            "      <th>GridFins</th>\n",
                            "      <th>Reused</th>\n",
                            "      <th>Legs</th>\n",
                            "      <th>LandingPad</th>\n",
                            "      <th>Block</th>\n",
                            "      <th>ReusedCount</th>\n",
                            "      <th>Serial</th>\n",
                            "    </tr>\n",
                            "  </thead>\n",
                            "  <tbody>\n",
                            "    <tr>\n",
                            "      <th>0</th>\n",
                            "      <td>1</td>\n",
                            "      <td>6123.547647</td>\n",
                            "      <td>LEO</td>\n",
                            "      <td>CCSFS SLC 40</td>\n",
                            "      <td>1</td>\n",
                            "      <td>False</td>\n",
                            "      <td>False</td>\n",
                            "      <td>False</td>\n",
                            "      <td>NaN</td>\n",
                            "      <td>1.0</td>\n",
                            "      <td>0</td>\n",
                            "      <td>B0003</td>\n",
                            "    </tr>\n",
                            "    <tr>\n",
                            "      <th>1</th>\n",
                            "      <td>2</td>\n",
                            "      <td>525.000000</td>\n",
                            "      <td>LEO</td>\n",
                            "      <td>CCSFS SLC 40</td>\n",
                            "      <td>1</td>\n",
                            "      <td>False</td>\n",
                            "      <td>False</td>\n",
                            "      <td>False</td>\n",
                            "      <td>NaN</td>\n",
                            "      <td>1.0</td>\n",
                            "      <td>0</td>\n",
                            "      <td>B0005</td>\n",
                            "    </tr>\n",
                            "    <tr>\n",
                            "      <th>2</th>\n",
                            "      <td>3</td>\n",
                            "      <td>677.000000</td>\n",
                            "      <td>ISS</td>\n",
                            "      <td>CCSFS SLC 40</td>\n",
                            "      <td>1</td>\n",
                            "      <td>False</td>\n",
                            "      <td>False</td>\n",
                            "      <td>False</td>\n",
                            "      <td>NaN</td>\n",
                            "      <td>1.0</td>\n",
                            "      <td>0</td>\n",
                            "      <td>B0007</td>\n",
                            "    </tr>\n",
                            "    <tr>\n",
                            "      <th>3</th>\n",
                            "      <td>4</td>\n",
                            "      <td>500.000000</td>\n",
                            "      <td>PO</td>\n",
                            "      <td>VAFB SLC 4E</td>\n",
                            "      <td>1</td>\n",
                            "      <td>False</td>\n",
                            "      <td>False</td>\n",
                            "      <td>False</td>\n",
                            "      <td>NaN</td>\n",
                            "      <td>1.0</td>\n",
                            "      <td>0</td>\n",
                            "      <td>B1003</td>\n",
                            "    </tr>\n",
                            "    <tr>\n",
                            "      <th>4</th>\n",
                            "      <td>5</td>\n",
                            "      <td>3170.000000</td>\n",
                            "      <td>GTO</td>\n",
                            "      <td>CCSFS SLC 40</td>\n",
                            "      <td>1</td>\n",
                            "      <td>False</td>\n",
                            "      <td>False</td>\n",
                            "      <td>False</td>\n",
                            "      <td>NaN</td>\n",
                            "      <td>1.0</td>\n",
                            "      <td>0</td>\n",
                            "      <td>B1004</td>\n",
                            "    </tr>\n",
                            "  </tbody>\n",
                            "</table>\n",
                            "</div>"
                        ],
                        "text/plain": [
                            "   FlightNumber  PayloadMass Orbit    LaunchSite  Flights  GridFins  Reused  \\\n",
                            "0             1  6123.547647   LEO  CCSFS SLC 40        1     False   False   \n",
                            "1             2   525.000000   LEO  CCSFS SLC 40        1     False   False   \n",
                            "2             3   677.000000   ISS  CCSFS SLC 40        1     False   False   \n",
                            "3             4   500.000000    PO   VAFB SLC 4E        1     False   False   \n",
                            "4             5  3170.000000   GTO  CCSFS SLC 40        1     False   False   \n",
                            "\n",
                            "    Legs LandingPad  Block  ReusedCount Serial  \n",
                            "0  False        NaN    1.0            0  B0003  \n",
                            "1  False        NaN    1.0            0  B0005  \n",
                            "2  False        NaN    1.0            0  B0007  \n",
                            "3  False        NaN    1.0            0  B1003  \n",
                            "4  False        NaN    1.0            0  B1004  "
                        ]
                    },
                    "execution_count": 29,
                    "metadata": {},
                    "output_type": "execute_result"
                }
            ],
            "source": [
                "features = df[['FlightNumber', 'PayloadMass', 'Orbit', 'LaunchSite', 'Flights', 'GridFins', 'Reused', 'Legs', 'LandingPad', 'Block', 'ReusedCount', 'Serial']]\n",
                "features.head()"
            ]
        },
        {
            "cell_type": "markdown",
            "metadata": {},
            "source": [
                "### Create dummy variables to categorical columns\n"
            ]
        },
        {
            "cell_type": "markdown",
            "metadata": {},
            "source": [
                "Use the function <code>get_dummies</code> and <code>features</code> dataframe to apply OneHotEncoder to the column <code>Orbits</code>, <code>LaunchSite</code>, <code>LandingPad</code>, and <code>Serial</code>. Assign the value to the variable <code>features_one_hot</code>, display the results using the method head. Your result dataframe must include all features including the encoded ones.\n"
            ]
        },
        {
            "cell_type": "code",
            "execution_count": 30,
            "metadata": {},
            "outputs": [
                {
                    "data": {
                        "text/html": [
                            "<div>\n",
                            "<style scoped>\n",
                            "    .dataframe tbody tr th:only-of-type {\n",
                            "        vertical-align: middle;\n",
                            "    }\n",
                            "\n",
                            "    .dataframe tbody tr th {\n",
                            "        vertical-align: top;\n",
                            "    }\n",
                            "\n",
                            "    .dataframe thead th {\n",
                            "        text-align: right;\n",
                            "    }\n",
                            "</style>\n",
                            "<table border=\"1\" class=\"dataframe\">\n",
                            "  <thead>\n",
                            "    <tr style=\"text-align: right;\">\n",
                            "      <th></th>\n",
                            "      <th>FlightNumber</th>\n",
                            "      <th>PayloadMass</th>\n",
                            "      <th>Flights</th>\n",
                            "      <th>GridFins</th>\n",
                            "      <th>Reused</th>\n",
                            "      <th>Legs</th>\n",
                            "      <th>Block</th>\n",
                            "      <th>ReusedCount</th>\n",
                            "      <th>Orbit_ES-L1</th>\n",
                            "      <th>Orbit_GEO</th>\n",
                            "      <th>...</th>\n",
                            "      <th>Serial_B1048</th>\n",
                            "      <th>Serial_B1049</th>\n",
                            "      <th>Serial_B1050</th>\n",
                            "      <th>Serial_B1051</th>\n",
                            "      <th>Serial_B1054</th>\n",
                            "      <th>Serial_B1056</th>\n",
                            "      <th>Serial_B1058</th>\n",
                            "      <th>Serial_B1059</th>\n",
                            "      <th>Serial_B1060</th>\n",
                            "      <th>Serial_B1062</th>\n",
                            "    </tr>\n",
                            "  </thead>\n",
                            "  <tbody>\n",
                            "    <tr>\n",
                            "      <th>0</th>\n",
                            "      <td>1</td>\n",
                            "      <td>6123.547647</td>\n",
                            "      <td>1</td>\n",
                            "      <td>False</td>\n",
                            "      <td>False</td>\n",
                            "      <td>False</td>\n",
                            "      <td>1.0</td>\n",
                            "      <td>0</td>\n",
                            "      <td>0</td>\n",
                            "      <td>0</td>\n",
                            "      <td>...</td>\n",
                            "      <td>0</td>\n",
                            "      <td>0</td>\n",
                            "      <td>0</td>\n",
                            "      <td>0</td>\n",
                            "      <td>0</td>\n",
                            "      <td>0</td>\n",
                            "      <td>0</td>\n",
                            "      <td>0</td>\n",
                            "      <td>0</td>\n",
                            "      <td>0</td>\n",
                            "    </tr>\n",
                            "    <tr>\n",
                            "      <th>1</th>\n",
                            "      <td>2</td>\n",
                            "      <td>525.000000</td>\n",
                            "      <td>1</td>\n",
                            "      <td>False</td>\n",
                            "      <td>False</td>\n",
                            "      <td>False</td>\n",
                            "      <td>1.0</td>\n",
                            "      <td>0</td>\n",
                            "      <td>0</td>\n",
                            "      <td>0</td>\n",
                            "      <td>...</td>\n",
                            "      <td>0</td>\n",
                            "      <td>0</td>\n",
                            "      <td>0</td>\n",
                            "      <td>0</td>\n",
                            "      <td>0</td>\n",
                            "      <td>0</td>\n",
                            "      <td>0</td>\n",
                            "      <td>0</td>\n",
                            "      <td>0</td>\n",
                            "      <td>0</td>\n",
                            "    </tr>\n",
                            "    <tr>\n",
                            "      <th>2</th>\n",
                            "      <td>3</td>\n",
                            "      <td>677.000000</td>\n",
                            "      <td>1</td>\n",
                            "      <td>False</td>\n",
                            "      <td>False</td>\n",
                            "      <td>False</td>\n",
                            "      <td>1.0</td>\n",
                            "      <td>0</td>\n",
                            "      <td>0</td>\n",
                            "      <td>0</td>\n",
                            "      <td>...</td>\n",
                            "      <td>0</td>\n",
                            "      <td>0</td>\n",
                            "      <td>0</td>\n",
                            "      <td>0</td>\n",
                            "      <td>0</td>\n",
                            "      <td>0</td>\n",
                            "      <td>0</td>\n",
                            "      <td>0</td>\n",
                            "      <td>0</td>\n",
                            "      <td>0</td>\n",
                            "    </tr>\n",
                            "    <tr>\n",
                            "      <th>3</th>\n",
                            "      <td>4</td>\n",
                            "      <td>500.000000</td>\n",
                            "      <td>1</td>\n",
                            "      <td>False</td>\n",
                            "      <td>False</td>\n",
                            "      <td>False</td>\n",
                            "      <td>1.0</td>\n",
                            "      <td>0</td>\n",
                            "      <td>0</td>\n",
                            "      <td>0</td>\n",
                            "      <td>...</td>\n",
                            "      <td>0</td>\n",
                            "      <td>0</td>\n",
                            "      <td>0</td>\n",
                            "      <td>0</td>\n",
                            "      <td>0</td>\n",
                            "      <td>0</td>\n",
                            "      <td>0</td>\n",
                            "      <td>0</td>\n",
                            "      <td>0</td>\n",
                            "      <td>0</td>\n",
                            "    </tr>\n",
                            "    <tr>\n",
                            "      <th>4</th>\n",
                            "      <td>5</td>\n",
                            "      <td>3170.000000</td>\n",
                            "      <td>1</td>\n",
                            "      <td>False</td>\n",
                            "      <td>False</td>\n",
                            "      <td>False</td>\n",
                            "      <td>1.0</td>\n",
                            "      <td>0</td>\n",
                            "      <td>0</td>\n",
                            "      <td>0</td>\n",
                            "      <td>...</td>\n",
                            "      <td>0</td>\n",
                            "      <td>0</td>\n",
                            "      <td>0</td>\n",
                            "      <td>0</td>\n",
                            "      <td>0</td>\n",
                            "      <td>0</td>\n",
                            "      <td>0</td>\n",
                            "      <td>0</td>\n",
                            "      <td>0</td>\n",
                            "      <td>0</td>\n",
                            "    </tr>\n",
                            "  </tbody>\n",
                            "</table>\n",
                            "<p>5 rows × 80 columns</p>\n",
                            "</div>"
                        ],
                        "text/plain": [
                            "   FlightNumber  PayloadMass  Flights  GridFins  Reused   Legs  Block  \\\n",
                            "0             1  6123.547647        1     False   False  False    1.0   \n",
                            "1             2   525.000000        1     False   False  False    1.0   \n",
                            "2             3   677.000000        1     False   False  False    1.0   \n",
                            "3             4   500.000000        1     False   False  False    1.0   \n",
                            "4             5  3170.000000        1     False   False  False    1.0   \n",
                            "\n",
                            "   ReusedCount  Orbit_ES-L1  Orbit_GEO  ...  Serial_B1048  Serial_B1049  \\\n",
                            "0            0            0          0  ...             0             0   \n",
                            "1            0            0          0  ...             0             0   \n",
                            "2            0            0          0  ...             0             0   \n",
                            "3            0            0          0  ...             0             0   \n",
                            "4            0            0          0  ...             0             0   \n",
                            "\n",
                            "   Serial_B1050  Serial_B1051  Serial_B1054  Serial_B1056  Serial_B1058  \\\n",
                            "0             0             0             0             0             0   \n",
                            "1             0             0             0             0             0   \n",
                            "2             0             0             0             0             0   \n",
                            "3             0             0             0             0             0   \n",
                            "4             0             0             0             0             0   \n",
                            "\n",
                            "   Serial_B1059  Serial_B1060  Serial_B1062  \n",
                            "0             0             0             0  \n",
                            "1             0             0             0  \n",
                            "2             0             0             0  \n",
                            "3             0             0             0  \n",
                            "4             0             0             0  \n",
                            "\n",
                            "[5 rows x 80 columns]"
                        ]
                    },
                    "execution_count": 30,
                    "metadata": {},
                    "output_type": "execute_result"
                }
            ],
            "source": [
                "features_one_hot = pd.get_dummies(features, columns = ['Orbit', 'LaunchSite', 'LandingPad', 'Serial'])\n",
                "\n",
                "features_one_hot.head()"
            ]
        },
        {
            "cell_type": "code",
            "execution_count": 31,
            "metadata": {},
            "outputs": [
                {
                    "data": {
                        "text/html": [
                            "<div>\n",
                            "<style scoped>\n",
                            "    .dataframe tbody tr th:only-of-type {\n",
                            "        vertical-align: middle;\n",
                            "    }\n",
                            "\n",
                            "    .dataframe tbody tr th {\n",
                            "        vertical-align: top;\n",
                            "    }\n",
                            "\n",
                            "    .dataframe thead th {\n",
                            "        text-align: right;\n",
                            "    }\n",
                            "</style>\n",
                            "<table border=\"1\" class=\"dataframe\">\n",
                            "  <thead>\n",
                            "    <tr style=\"text-align: right;\">\n",
                            "      <th></th>\n",
                            "      <th>FlightNumber</th>\n",
                            "      <th>PayloadMass</th>\n",
                            "      <th>Flights</th>\n",
                            "      <th>Block</th>\n",
                            "      <th>ReusedCount</th>\n",
                            "      <th>Orbit_ES-L1</th>\n",
                            "      <th>Orbit_GEO</th>\n",
                            "      <th>Orbit_GTO</th>\n",
                            "      <th>Orbit_HEO</th>\n",
                            "      <th>Orbit_ISS</th>\n",
                            "      <th>...</th>\n",
                            "      <th>Serial_B1048</th>\n",
                            "      <th>Serial_B1049</th>\n",
                            "      <th>Serial_B1050</th>\n",
                            "      <th>Serial_B1051</th>\n",
                            "      <th>Serial_B1054</th>\n",
                            "      <th>Serial_B1056</th>\n",
                            "      <th>Serial_B1058</th>\n",
                            "      <th>Serial_B1059</th>\n",
                            "      <th>Serial_B1060</th>\n",
                            "      <th>Serial_B1062</th>\n",
                            "    </tr>\n",
                            "  </thead>\n",
                            "  <tbody>\n",
                            "    <tr>\n",
                            "      <th>count</th>\n",
                            "      <td>90.000000</td>\n",
                            "      <td>90.000000</td>\n",
                            "      <td>90.000000</td>\n",
                            "      <td>90.000000</td>\n",
                            "      <td>90.000000</td>\n",
                            "      <td>90.000000</td>\n",
                            "      <td>90.000000</td>\n",
                            "      <td>90.000000</td>\n",
                            "      <td>90.000000</td>\n",
                            "      <td>90.000000</td>\n",
                            "      <td>...</td>\n",
                            "      <td>90.000000</td>\n",
                            "      <td>90.000000</td>\n",
                            "      <td>90.000000</td>\n",
                            "      <td>90.000000</td>\n",
                            "      <td>90.000000</td>\n",
                            "      <td>90.000000</td>\n",
                            "      <td>90.000000</td>\n",
                            "      <td>90.000000</td>\n",
                            "      <td>90.000000</td>\n",
                            "      <td>90.000000</td>\n",
                            "    </tr>\n",
                            "    <tr>\n",
                            "      <th>mean</th>\n",
                            "      <td>45.500000</td>\n",
                            "      <td>6123.547647</td>\n",
                            "      <td>1.788889</td>\n",
                            "      <td>3.500000</td>\n",
                            "      <td>2.711111</td>\n",
                            "      <td>0.011111</td>\n",
                            "      <td>0.011111</td>\n",
                            "      <td>0.300000</td>\n",
                            "      <td>0.011111</td>\n",
                            "      <td>0.233333</td>\n",
                            "      <td>...</td>\n",
                            "      <td>0.044444</td>\n",
                            "      <td>0.066667</td>\n",
                            "      <td>0.011111</td>\n",
                            "      <td>0.055556</td>\n",
                            "      <td>0.011111</td>\n",
                            "      <td>0.044444</td>\n",
                            "      <td>0.033333</td>\n",
                            "      <td>0.044444</td>\n",
                            "      <td>0.033333</td>\n",
                            "      <td>0.011111</td>\n",
                            "    </tr>\n",
                            "    <tr>\n",
                            "      <th>std</th>\n",
                            "      <td>26.124701</td>\n",
                            "      <td>4732.115291</td>\n",
                            "      <td>1.213172</td>\n",
                            "      <td>1.595288</td>\n",
                            "      <td>3.325909</td>\n",
                            "      <td>0.105409</td>\n",
                            "      <td>0.105409</td>\n",
                            "      <td>0.460825</td>\n",
                            "      <td>0.105409</td>\n",
                            "      <td>0.425322</td>\n",
                            "      <td>...</td>\n",
                            "      <td>0.207235</td>\n",
                            "      <td>0.250841</td>\n",
                            "      <td>0.105409</td>\n",
                            "      <td>0.230345</td>\n",
                            "      <td>0.105409</td>\n",
                            "      <td>0.207235</td>\n",
                            "      <td>0.180511</td>\n",
                            "      <td>0.207235</td>\n",
                            "      <td>0.180511</td>\n",
                            "      <td>0.105409</td>\n",
                            "    </tr>\n",
                            "    <tr>\n",
                            "      <th>min</th>\n",
                            "      <td>1.000000</td>\n",
                            "      <td>350.000000</td>\n",
                            "      <td>1.000000</td>\n",
                            "      <td>1.000000</td>\n",
                            "      <td>0.000000</td>\n",
                            "      <td>0.000000</td>\n",
                            "      <td>0.000000</td>\n",
                            "      <td>0.000000</td>\n",
                            "      <td>0.000000</td>\n",
                            "      <td>0.000000</td>\n",
                            "      <td>...</td>\n",
                            "      <td>0.000000</td>\n",
                            "      <td>0.000000</td>\n",
                            "      <td>0.000000</td>\n",
                            "      <td>0.000000</td>\n",
                            "      <td>0.000000</td>\n",
                            "      <td>0.000000</td>\n",
                            "      <td>0.000000</td>\n",
                            "      <td>0.000000</td>\n",
                            "      <td>0.000000</td>\n",
                            "      <td>0.000000</td>\n",
                            "    </tr>\n",
                            "    <tr>\n",
                            "      <th>25%</th>\n",
                            "      <td>23.250000</td>\n",
                            "      <td>2510.750000</td>\n",
                            "      <td>1.000000</td>\n",
                            "      <td>2.000000</td>\n",
                            "      <td>0.000000</td>\n",
                            "      <td>0.000000</td>\n",
                            "      <td>0.000000</td>\n",
                            "      <td>0.000000</td>\n",
                            "      <td>0.000000</td>\n",
                            "      <td>0.000000</td>\n",
                            "      <td>...</td>\n",
                            "      <td>0.000000</td>\n",
                            "      <td>0.000000</td>\n",
                            "      <td>0.000000</td>\n",
                            "      <td>0.000000</td>\n",
                            "      <td>0.000000</td>\n",
                            "      <td>0.000000</td>\n",
                            "      <td>0.000000</td>\n",
                            "      <td>0.000000</td>\n",
                            "      <td>0.000000</td>\n",
                            "      <td>0.000000</td>\n",
                            "    </tr>\n",
                            "    <tr>\n",
                            "      <th>50%</th>\n",
                            "      <td>45.500000</td>\n",
                            "      <td>4701.500000</td>\n",
                            "      <td>1.000000</td>\n",
                            "      <td>4.000000</td>\n",
                            "      <td>1.000000</td>\n",
                            "      <td>0.000000</td>\n",
                            "      <td>0.000000</td>\n",
                            "      <td>0.000000</td>\n",
                            "      <td>0.000000</td>\n",
                            "      <td>0.000000</td>\n",
                            "      <td>...</td>\n",
                            "      <td>0.000000</td>\n",
                            "      <td>0.000000</td>\n",
                            "      <td>0.000000</td>\n",
                            "      <td>0.000000</td>\n",
                            "      <td>0.000000</td>\n",
                            "      <td>0.000000</td>\n",
                            "      <td>0.000000</td>\n",
                            "      <td>0.000000</td>\n",
                            "      <td>0.000000</td>\n",
                            "      <td>0.000000</td>\n",
                            "    </tr>\n",
                            "    <tr>\n",
                            "      <th>75%</th>\n",
                            "      <td>67.750000</td>\n",
                            "      <td>8912.750000</td>\n",
                            "      <td>2.000000</td>\n",
                            "      <td>5.000000</td>\n",
                            "      <td>4.000000</td>\n",
                            "      <td>0.000000</td>\n",
                            "      <td>0.000000</td>\n",
                            "      <td>1.000000</td>\n",
                            "      <td>0.000000</td>\n",
                            "      <td>0.000000</td>\n",
                            "      <td>...</td>\n",
                            "      <td>0.000000</td>\n",
                            "      <td>0.000000</td>\n",
                            "      <td>0.000000</td>\n",
                            "      <td>0.000000</td>\n",
                            "      <td>0.000000</td>\n",
                            "      <td>0.000000</td>\n",
                            "      <td>0.000000</td>\n",
                            "      <td>0.000000</td>\n",
                            "      <td>0.000000</td>\n",
                            "      <td>0.000000</td>\n",
                            "    </tr>\n",
                            "    <tr>\n",
                            "      <th>max</th>\n",
                            "      <td>90.000000</td>\n",
                            "      <td>15600.000000</td>\n",
                            "      <td>6.000000</td>\n",
                            "      <td>5.000000</td>\n",
                            "      <td>10.000000</td>\n",
                            "      <td>1.000000</td>\n",
                            "      <td>1.000000</td>\n",
                            "      <td>1.000000</td>\n",
                            "      <td>1.000000</td>\n",
                            "      <td>1.000000</td>\n",
                            "      <td>...</td>\n",
                            "      <td>1.000000</td>\n",
                            "      <td>1.000000</td>\n",
                            "      <td>1.000000</td>\n",
                            "      <td>1.000000</td>\n",
                            "      <td>1.000000</td>\n",
                            "      <td>1.000000</td>\n",
                            "      <td>1.000000</td>\n",
                            "      <td>1.000000</td>\n",
                            "      <td>1.000000</td>\n",
                            "      <td>1.000000</td>\n",
                            "    </tr>\n",
                            "  </tbody>\n",
                            "</table>\n",
                            "<p>8 rows × 77 columns</p>\n",
                            "</div>"
                        ],
                        "text/plain": [
                            "       FlightNumber   PayloadMass    Flights      Block  ReusedCount  \\\n",
                            "count     90.000000     90.000000  90.000000  90.000000    90.000000   \n",
                            "mean      45.500000   6123.547647   1.788889   3.500000     2.711111   \n",
                            "std       26.124701   4732.115291   1.213172   1.595288     3.325909   \n",
                            "min        1.000000    350.000000   1.000000   1.000000     0.000000   \n",
                            "25%       23.250000   2510.750000   1.000000   2.000000     0.000000   \n",
                            "50%       45.500000   4701.500000   1.000000   4.000000     1.000000   \n",
                            "75%       67.750000   8912.750000   2.000000   5.000000     4.000000   \n",
                            "max       90.000000  15600.000000   6.000000   5.000000    10.000000   \n",
                            "\n",
                            "       Orbit_ES-L1  Orbit_GEO  Orbit_GTO  Orbit_HEO  Orbit_ISS  ...  \\\n",
                            "count    90.000000  90.000000  90.000000  90.000000  90.000000  ...   \n",
                            "mean      0.011111   0.011111   0.300000   0.011111   0.233333  ...   \n",
                            "std       0.105409   0.105409   0.460825   0.105409   0.425322  ...   \n",
                            "min       0.000000   0.000000   0.000000   0.000000   0.000000  ...   \n",
                            "25%       0.000000   0.000000   0.000000   0.000000   0.000000  ...   \n",
                            "50%       0.000000   0.000000   0.000000   0.000000   0.000000  ...   \n",
                            "75%       0.000000   0.000000   1.000000   0.000000   0.000000  ...   \n",
                            "max       1.000000   1.000000   1.000000   1.000000   1.000000  ...   \n",
                            "\n",
                            "       Serial_B1048  Serial_B1049  Serial_B1050  Serial_B1051  Serial_B1054  \\\n",
                            "count     90.000000     90.000000     90.000000     90.000000     90.000000   \n",
                            "mean       0.044444      0.066667      0.011111      0.055556      0.011111   \n",
                            "std        0.207235      0.250841      0.105409      0.230345      0.105409   \n",
                            "min        0.000000      0.000000      0.000000      0.000000      0.000000   \n",
                            "25%        0.000000      0.000000      0.000000      0.000000      0.000000   \n",
                            "50%        0.000000      0.000000      0.000000      0.000000      0.000000   \n",
                            "75%        0.000000      0.000000      0.000000      0.000000      0.000000   \n",
                            "max        1.000000      1.000000      1.000000      1.000000      1.000000   \n",
                            "\n",
                            "       Serial_B1056  Serial_B1058  Serial_B1059  Serial_B1060  Serial_B1062  \n",
                            "count     90.000000     90.000000     90.000000     90.000000     90.000000  \n",
                            "mean       0.044444      0.033333      0.044444      0.033333      0.011111  \n",
                            "std        0.207235      0.180511      0.207235      0.180511      0.105409  \n",
                            "min        0.000000      0.000000      0.000000      0.000000      0.000000  \n",
                            "25%        0.000000      0.000000      0.000000      0.000000      0.000000  \n",
                            "50%        0.000000      0.000000      0.000000      0.000000      0.000000  \n",
                            "75%        0.000000      0.000000      0.000000      0.000000      0.000000  \n",
                            "max        1.000000      1.000000      1.000000      1.000000      1.000000  \n",
                            "\n",
                            "[8 rows x 77 columns]"
                        ]
                    },
                    "execution_count": 31,
                    "metadata": {},
                    "output_type": "execute_result"
                }
            ],
            "source": [
                "features_one_hot.describe()"
            ]
        },
        {
            "cell_type": "markdown",
            "metadata": {},
            "source": [
                "### Cast all numeric columns to `float64`\n"
            ]
        },
        {
            "cell_type": "code",
            "execution_count": 32,
            "metadata": {},
            "outputs": [
                {
                    "data": {
                        "text/html": [
                            "<div>\n",
                            "<style scoped>\n",
                            "    .dataframe tbody tr th:only-of-type {\n",
                            "        vertical-align: middle;\n",
                            "    }\n",
                            "\n",
                            "    .dataframe tbody tr th {\n",
                            "        vertical-align: top;\n",
                            "    }\n",
                            "\n",
                            "    .dataframe thead th {\n",
                            "        text-align: right;\n",
                            "    }\n",
                            "</style>\n",
                            "<table border=\"1\" class=\"dataframe\">\n",
                            "  <thead>\n",
                            "    <tr style=\"text-align: right;\">\n",
                            "      <th></th>\n",
                            "      <th>FlightNumber</th>\n",
                            "      <th>PayloadMass</th>\n",
                            "      <th>Flights</th>\n",
                            "      <th>GridFins</th>\n",
                            "      <th>Reused</th>\n",
                            "      <th>Legs</th>\n",
                            "      <th>Block</th>\n",
                            "      <th>ReusedCount</th>\n",
                            "      <th>Orbit_ES-L1</th>\n",
                            "      <th>Orbit_GEO</th>\n",
                            "      <th>...</th>\n",
                            "      <th>Serial_B1048</th>\n",
                            "      <th>Serial_B1049</th>\n",
                            "      <th>Serial_B1050</th>\n",
                            "      <th>Serial_B1051</th>\n",
                            "      <th>Serial_B1054</th>\n",
                            "      <th>Serial_B1056</th>\n",
                            "      <th>Serial_B1058</th>\n",
                            "      <th>Serial_B1059</th>\n",
                            "      <th>Serial_B1060</th>\n",
                            "      <th>Serial_B1062</th>\n",
                            "    </tr>\n",
                            "  </thead>\n",
                            "  <tbody>\n",
                            "    <tr>\n",
                            "      <th>0</th>\n",
                            "      <td>1.0</td>\n",
                            "      <td>6123.547647</td>\n",
                            "      <td>1.0</td>\n",
                            "      <td>0.0</td>\n",
                            "      <td>0.0</td>\n",
                            "      <td>0.0</td>\n",
                            "      <td>1.0</td>\n",
                            "      <td>0.0</td>\n",
                            "      <td>0.0</td>\n",
                            "      <td>0.0</td>\n",
                            "      <td>...</td>\n",
                            "      <td>0.0</td>\n",
                            "      <td>0.0</td>\n",
                            "      <td>0.0</td>\n",
                            "      <td>0.0</td>\n",
                            "      <td>0.0</td>\n",
                            "      <td>0.0</td>\n",
                            "      <td>0.0</td>\n",
                            "      <td>0.0</td>\n",
                            "      <td>0.0</td>\n",
                            "      <td>0.0</td>\n",
                            "    </tr>\n",
                            "    <tr>\n",
                            "      <th>1</th>\n",
                            "      <td>2.0</td>\n",
                            "      <td>525.000000</td>\n",
                            "      <td>1.0</td>\n",
                            "      <td>0.0</td>\n",
                            "      <td>0.0</td>\n",
                            "      <td>0.0</td>\n",
                            "      <td>1.0</td>\n",
                            "      <td>0.0</td>\n",
                            "      <td>0.0</td>\n",
                            "      <td>0.0</td>\n",
                            "      <td>...</td>\n",
                            "      <td>0.0</td>\n",
                            "      <td>0.0</td>\n",
                            "      <td>0.0</td>\n",
                            "      <td>0.0</td>\n",
                            "      <td>0.0</td>\n",
                            "      <td>0.0</td>\n",
                            "      <td>0.0</td>\n",
                            "      <td>0.0</td>\n",
                            "      <td>0.0</td>\n",
                            "      <td>0.0</td>\n",
                            "    </tr>\n",
                            "    <tr>\n",
                            "      <th>2</th>\n",
                            "      <td>3.0</td>\n",
                            "      <td>677.000000</td>\n",
                            "      <td>1.0</td>\n",
                            "      <td>0.0</td>\n",
                            "      <td>0.0</td>\n",
                            "      <td>0.0</td>\n",
                            "      <td>1.0</td>\n",
                            "      <td>0.0</td>\n",
                            "      <td>0.0</td>\n",
                            "      <td>0.0</td>\n",
                            "      <td>...</td>\n",
                            "      <td>0.0</td>\n",
                            "      <td>0.0</td>\n",
                            "      <td>0.0</td>\n",
                            "      <td>0.0</td>\n",
                            "      <td>0.0</td>\n",
                            "      <td>0.0</td>\n",
                            "      <td>0.0</td>\n",
                            "      <td>0.0</td>\n",
                            "      <td>0.0</td>\n",
                            "      <td>0.0</td>\n",
                            "    </tr>\n",
                            "    <tr>\n",
                            "      <th>3</th>\n",
                            "      <td>4.0</td>\n",
                            "      <td>500.000000</td>\n",
                            "      <td>1.0</td>\n",
                            "      <td>0.0</td>\n",
                            "      <td>0.0</td>\n",
                            "      <td>0.0</td>\n",
                            "      <td>1.0</td>\n",
                            "      <td>0.0</td>\n",
                            "      <td>0.0</td>\n",
                            "      <td>0.0</td>\n",
                            "      <td>...</td>\n",
                            "      <td>0.0</td>\n",
                            "      <td>0.0</td>\n",
                            "      <td>0.0</td>\n",
                            "      <td>0.0</td>\n",
                            "      <td>0.0</td>\n",
                            "      <td>0.0</td>\n",
                            "      <td>0.0</td>\n",
                            "      <td>0.0</td>\n",
                            "      <td>0.0</td>\n",
                            "      <td>0.0</td>\n",
                            "    </tr>\n",
                            "    <tr>\n",
                            "      <th>4</th>\n",
                            "      <td>5.0</td>\n",
                            "      <td>3170.000000</td>\n",
                            "      <td>1.0</td>\n",
                            "      <td>0.0</td>\n",
                            "      <td>0.0</td>\n",
                            "      <td>0.0</td>\n",
                            "      <td>1.0</td>\n",
                            "      <td>0.0</td>\n",
                            "      <td>0.0</td>\n",
                            "      <td>0.0</td>\n",
                            "      <td>...</td>\n",
                            "      <td>0.0</td>\n",
                            "      <td>0.0</td>\n",
                            "      <td>0.0</td>\n",
                            "      <td>0.0</td>\n",
                            "      <td>0.0</td>\n",
                            "      <td>0.0</td>\n",
                            "      <td>0.0</td>\n",
                            "      <td>0.0</td>\n",
                            "      <td>0.0</td>\n",
                            "      <td>0.0</td>\n",
                            "    </tr>\n",
                            "  </tbody>\n",
                            "</table>\n",
                            "<p>5 rows × 80 columns</p>\n",
                            "</div>"
                        ],
                        "text/plain": [
                            "   FlightNumber  PayloadMass  Flights  GridFins  Reused  Legs  Block  \\\n",
                            "0           1.0  6123.547647      1.0       0.0     0.0   0.0    1.0   \n",
                            "1           2.0   525.000000      1.0       0.0     0.0   0.0    1.0   \n",
                            "2           3.0   677.000000      1.0       0.0     0.0   0.0    1.0   \n",
                            "3           4.0   500.000000      1.0       0.0     0.0   0.0    1.0   \n",
                            "4           5.0  3170.000000      1.0       0.0     0.0   0.0    1.0   \n",
                            "\n",
                            "   ReusedCount  Orbit_ES-L1  Orbit_GEO  ...  Serial_B1048  Serial_B1049  \\\n",
                            "0          0.0          0.0        0.0  ...           0.0           0.0   \n",
                            "1          0.0          0.0        0.0  ...           0.0           0.0   \n",
                            "2          0.0          0.0        0.0  ...           0.0           0.0   \n",
                            "3          0.0          0.0        0.0  ...           0.0           0.0   \n",
                            "4          0.0          0.0        0.0  ...           0.0           0.0   \n",
                            "\n",
                            "   Serial_B1050  Serial_B1051  Serial_B1054  Serial_B1056  Serial_B1058  \\\n",
                            "0           0.0           0.0           0.0           0.0           0.0   \n",
                            "1           0.0           0.0           0.0           0.0           0.0   \n",
                            "2           0.0           0.0           0.0           0.0           0.0   \n",
                            "3           0.0           0.0           0.0           0.0           0.0   \n",
                            "4           0.0           0.0           0.0           0.0           0.0   \n",
                            "\n",
                            "   Serial_B1059  Serial_B1060  Serial_B1062  \n",
                            "0           0.0           0.0           0.0  \n",
                            "1           0.0           0.0           0.0  \n",
                            "2           0.0           0.0           0.0  \n",
                            "3           0.0           0.0           0.0  \n",
                            "4           0.0           0.0           0.0  \n",
                            "\n",
                            "[5 rows x 80 columns]"
                        ]
                    },
                    "execution_count": 32,
                    "metadata": {},
                    "output_type": "execute_result"
                }
            ],
            "source": [
                "\n",
                "features_one_hot = features_one_hot.astype('float64')\n",
                "features_one_hot.head()\n"
            ]
        },
        {
            "cell_type": "markdown",
            "metadata": {},
            "source": [
                "We can now export it to a <b>CSV</b> for the next section,but to make the answers consistent, in the next lab we will provide data in a pre-selected date range.\n"
            ]
        },
        {
            "cell_type": "code",
            "execution_count": 33,
            "metadata": {},
            "outputs": [],
            "source": [
                "features_one_hot.to_csv('dataset_part_3.csv', index=False)"
            ]
        }
    ],
    "metadata": {
        "kernelspec": {
            "display_name": "Python 3.8",
            "language": "python",
            "name": "python3"
        },
        "language_info": {
            "codemirror_mode": {
                "name": "ipython",
                "version": 3
            },
            "file_extension": ".py",
            "mimetype": "text/x-python",
            "name": "python",
            "nbconvert_exporter": "python",
            "pygments_lexer": "ipython3",
            "version": "3.9.7"
        }
    },
    "nbformat": 4,
    "nbformat_minor": 4
}
