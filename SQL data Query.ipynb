{
    "cells": [
        {
            "cell_type": "markdown",
            "metadata": {},
            "source": [
                "### Download the datasets\n",
                "\n",
                "\n",
                "In many cases the dataset to be analyzed is available as a .CSV (comma separated values) file, perhaps on the internet. Click on the link below to download and save the dataset (.CSV file):\n",
                "\n",
                "<a href=\"https://cf-courses-data.s3.us.cloud-object-storage.appdomain.cloud/IBM-DS0321EN-SkillsNetwork/labs/module_2/data/Spacex.csv?utm_medium=Exinfluencer&utm_source=Exinfluencer&utm_content=000026UJ&utm_term=10006555&utm_id=NA-SkillsNetwork-Channel-SkillsNetworkCoursesIBMDS0321ENSkillsNetwork26802033-2021-01-01\" target=\"_blank\">Spacex DataSet</a>\n"
            ]
        },
        {
            "cell_type": "code",
            "execution_count": 1,
            "metadata": {},
            "outputs": [
                {
                    "name": "stdout",
                    "output_type": "stream",
                    "text": [
                        "Collecting sqlalchemy==1.3.9\n",
                        "  Downloading SQLAlchemy-1.3.9.tar.gz (6.0 MB)\n",
                        "\u001b[K     |████████████████████████████████| 6.0 MB 11.8 MB/s eta 0:00:01\n",
                        "\u001b[?25hBuilding wheels for collected packages: sqlalchemy\n",
                        "  Building wheel for sqlalchemy (setup.py) ... \u001b[?25ldone\n",
                        "\u001b[?25h  Created wheel for sqlalchemy: filename=SQLAlchemy-1.3.9-cp38-cp38-linux_x86_64.whl size=1209508 sha256=51e97f8550bd07b32286ef91ab629588f195fdb3f310d67a3a155376f76fc43d\n",
                        "  Stored in directory: /tmp/wsuser/.cache/pip/wheels/cb/43/46/fa638f2422554332b7865d600275b24568bf60e76104a94bb4\n",
                        "Successfully built sqlalchemy\n",
                        "Installing collected packages: sqlalchemy\n",
                        "  Attempting uninstall: sqlalchemy\n",
                        "    Found existing installation: SQLAlchemy 1.4.22\n",
                        "    Uninstalling SQLAlchemy-1.4.22:\n",
                        "      Successfully uninstalled SQLAlchemy-1.4.22\n",
                        "Successfully installed sqlalchemy-1.3.9\n",
                        "Requirement already satisfied: ibm_db_sa in /opt/conda/envs/Python-3.8-main/lib/python3.8/site-packages (0.3.7)\n",
                        "Requirement already satisfied: ibm-db>=2.0.0 in /opt/conda/envs/Python-3.8-main/lib/python3.8/site-packages (from ibm_db_sa) (3.0.4)\n",
                        "Requirement already satisfied: sqlalchemy>=0.7.3 in /opt/conda/envs/Python-3.8-main/lib/python3.8/site-packages (from ibm_db_sa) (1.3.9)\n",
                        "Collecting ipython-sql\n",
                        "  Downloading ipython_sql-0.4.0-py3-none-any.whl (19 kB)\n",
                        "Collecting prettytable<1\n",
                        "  Downloading prettytable-0.7.2.zip (28 kB)\n",
                        "Requirement already satisfied: ipython-genutils>=0.1.0 in /opt/conda/envs/Python-3.8-main/lib/python3.8/site-packages (from ipython-sql) (0.2.0)\n",
                        "Collecting sqlparse\n",
                        "  Downloading sqlparse-0.4.2-py3-none-any.whl (42 kB)\n",
                        "\u001b[K     |████████████████████████████████| 42 kB 1.7 MB/s  eta 0:00:01\n",
                        "\u001b[?25hRequirement already satisfied: sqlalchemy>=0.6.7 in /opt/conda/envs/Python-3.8-main/lib/python3.8/site-packages (from ipython-sql) (1.3.9)\n",
                        "Requirement already satisfied: six in /opt/conda/envs/Python-3.8-main/lib/python3.8/site-packages (from ipython-sql) (1.15.0)\n",
                        "Requirement already satisfied: ipython>=1.0 in /opt/conda/envs/Python-3.8-main/lib/python3.8/site-packages (from ipython-sql) (7.27.0)\n",
                        "Requirement already satisfied: jedi>=0.16 in /opt/conda/envs/Python-3.8-main/lib/python3.8/site-packages (from ipython>=1.0->ipython-sql) (0.17.2)\n",
                        "Requirement already satisfied: matplotlib-inline in /opt/conda/envs/Python-3.8-main/lib/python3.8/site-packages (from ipython>=1.0->ipython-sql) (0.1.2)\n",
                        "Requirement already satisfied: traitlets>=4.2 in /opt/conda/envs/Python-3.8-main/lib/python3.8/site-packages (from ipython>=1.0->ipython-sql) (5.0.5)\n",
                        "Requirement already satisfied: prompt-toolkit!=3.0.0,!=3.0.1,<3.1.0,>=2.0.0 in /opt/conda/envs/Python-3.8-main/lib/python3.8/site-packages (from ipython>=1.0->ipython-sql) (3.0.20)\n",
                        "Requirement already satisfied: pickleshare in /opt/conda/envs/Python-3.8-main/lib/python3.8/site-packages (from ipython>=1.0->ipython-sql) (0.7.5)\n",
                        "Requirement already satisfied: setuptools>=18.5 in /opt/conda/envs/Python-3.8-main/lib/python3.8/site-packages (from ipython>=1.0->ipython-sql) (52.0.0.post20211006)\n",
                        "Requirement already satisfied: backcall in /opt/conda/envs/Python-3.8-main/lib/python3.8/site-packages (from ipython>=1.0->ipython-sql) (0.2.0)\n",
                        "Requirement already satisfied: pexpect>4.3 in /opt/conda/envs/Python-3.8-main/lib/python3.8/site-packages (from ipython>=1.0->ipython-sql) (4.8.0)\n",
                        "Requirement already satisfied: decorator in /opt/conda/envs/Python-3.8-main/lib/python3.8/site-packages (from ipython>=1.0->ipython-sql) (5.0.9)\n",
                        "Requirement already satisfied: pygments in /opt/conda/envs/Python-3.8-main/lib/python3.8/site-packages (from ipython>=1.0->ipython-sql) (2.9.0)\n",
                        "Requirement already satisfied: parso<0.8.0,>=0.7.0 in /opt/conda/envs/Python-3.8-main/lib/python3.8/site-packages (from jedi>=0.16->ipython>=1.0->ipython-sql) (0.7.0)\n",
                        "Requirement already satisfied: ptyprocess>=0.5 in /opt/conda/envs/Python-3.8-main/lib/python3.8/site-packages (from pexpect>4.3->ipython>=1.0->ipython-sql) (0.7.0)\n",
                        "Requirement already satisfied: wcwidth in /opt/conda/envs/Python-3.8-main/lib/python3.8/site-packages (from prompt-toolkit!=3.0.0,!=3.0.1,<3.1.0,>=2.0.0->ipython>=1.0->ipython-sql) (0.2.5)\n",
                        "Building wheels for collected packages: prettytable\n",
                        "  Building wheel for prettytable (setup.py) ... \u001b[?25ldone\n",
                        "\u001b[?25h  Created wheel for prettytable: filename=prettytable-0.7.2-py3-none-any.whl size=13700 sha256=516d5aa28dd3c26eaaf61764680723b9e163de20d95ab06052949467255e29ab\n",
                        "  Stored in directory: /tmp/wsuser/.cache/pip/wheels/48/6d/77/9517cb933af254f51a446f1a5ec9c2be3e45f17384940bce68\n",
                        "Successfully built prettytable\n",
                        "Installing collected packages: sqlparse, prettytable, ipython-sql\n",
                        "Successfully installed ipython-sql-0.4.0 prettytable-0.7.2 sqlparse-0.4.2\n"
                    ]
                }
            ],
            "source": [
                "!pip install sqlalchemy==1.3.9\n",
                "!pip install ibm_db_sa\n",
                "!pip install ipython-sql"
            ]
        },
        {
            "cell_type": "markdown",
            "metadata": {},
            "source": [
                "### Connect to the database\n",
                "\n",
                "Let us first load the SQL extension and establish a connection with the database\n"
            ]
        },
        {
            "cell_type": "code",
            "execution_count": 2,
            "metadata": {},
            "outputs": [],
            "source": [
                "%load_ext sql"
            ]
        },
        {
            "cell_type": "markdown",
            "metadata": {},
            "source": [
                "\n",
                "##### Display the names of the unique launch sites  in the space mission\n"
            ]
        },
        {
            "cell_type": "code",
            "execution_count": 18,
            "metadata": {},
            "outputs": [
                {
                    "name": "stdout",
                    "output_type": "stream",
                    "text": [
                        " * ibm_db_sa://qjv10870:***@54a2f15b-5c0f-46df-8954-7e38e612c2bd.c1ogj3sd0tgtu0lqde00.databases.appdomain.cloud:32733/bludb\n",
                        "Done.\n"
                    ]
                },
                {
                    "data": {
                        "text/html": [
                            "<table>\n",
                            "    <tr>\n",
                            "        <th>launch_site</th>\n",
                            "    </tr>\n",
                            "    <tr>\n",
                            "        <td>CCAFS LC-40</td>\n",
                            "    </tr>\n",
                            "    <tr>\n",
                            "        <td>CCAFS SLC-40</td>\n",
                            "    </tr>\n",
                            "    <tr>\n",
                            "        <td>KSC LC-39A</td>\n",
                            "    </tr>\n",
                            "    <tr>\n",
                            "        <td>VAFB SLC-4E</td>\n",
                            "    </tr>\n",
                            "</table>"
                        ],
                        "text/plain": [
                            "[('CCAFS LC-40',), ('CCAFS SLC-40',), ('KSC LC-39A',), ('VAFB SLC-4E',)]"
                        ]
                    },
                    "execution_count": 18,
                    "metadata": {},
                    "output_type": "execute_result"
                }
            ],
            "source": [
                "%sql select Distinct launch_site from SPACEXDATASET;"
            ]
        },
        {
            "cell_type": "markdown",
            "metadata": {},
            "source": [
                "\n",
                "##### Display 5 records where launch sites begin with the string 'CCA'\n"
            ]
        },
        {
            "cell_type": "code",
            "execution_count": 19,
            "metadata": {},
            "outputs": [
                {
                    "name": "stdout",
                    "output_type": "stream",
                    "text": [
                        " * ibm_db_sa://qjv10870:***@54a2f15b-5c0f-46df-8954-7e38e612c2bd.c1ogj3sd0tgtu0lqde00.databases.appdomain.cloud:32733/bludb\n",
                        "Done.\n"
                    ]
                },
                {
                    "data": {
                        "text/html": [
                            "<table>\n",
                            "    <tr>\n",
                            "        <th>DATE</th>\n",
                            "        <th>time__utc_</th>\n",
                            "        <th>booster_version</th>\n",
                            "        <th>launch_site</th>\n",
                            "        <th>payload</th>\n",
                            "        <th>payload_mass__kg_</th>\n",
                            "        <th>orbit</th>\n",
                            "        <th>customer</th>\n",
                            "        <th>mission_outcome</th>\n",
                            "        <th>landing__outcome</th>\n",
                            "    </tr>\n",
                            "    <tr>\n",
                            "        <td>2010-06-04</td>\n",
                            "        <td>18:45:00</td>\n",
                            "        <td>F9 v1.0  B0003</td>\n",
                            "        <td>CCAFS LC-40</td>\n",
                            "        <td>Dragon Spacecraft Qualification Unit</td>\n",
                            "        <td>0</td>\n",
                            "        <td>LEO</td>\n",
                            "        <td>SpaceX</td>\n",
                            "        <td>Success</td>\n",
                            "        <td>Failure (parachute)</td>\n",
                            "    </tr>\n",
                            "    <tr>\n",
                            "        <td>2010-12-08</td>\n",
                            "        <td>15:43:00</td>\n",
                            "        <td>F9 v1.0  B0004</td>\n",
                            "        <td>CCAFS LC-40</td>\n",
                            "        <td>Dragon demo flight C1, two CubeSats, barrel of Brouere cheese</td>\n",
                            "        <td>0</td>\n",
                            "        <td>LEO (ISS)</td>\n",
                            "        <td>NASA (COTS) NRO</td>\n",
                            "        <td>Success</td>\n",
                            "        <td>Failure (parachute)</td>\n",
                            "    </tr>\n",
                            "    <tr>\n",
                            "        <td>2012-05-22</td>\n",
                            "        <td>07:44:00</td>\n",
                            "        <td>F9 v1.0  B0005</td>\n",
                            "        <td>CCAFS LC-40</td>\n",
                            "        <td>Dragon demo flight C2</td>\n",
                            "        <td>525</td>\n",
                            "        <td>LEO (ISS)</td>\n",
                            "        <td>NASA (COTS)</td>\n",
                            "        <td>Success</td>\n",
                            "        <td>No attempt</td>\n",
                            "    </tr>\n",
                            "    <tr>\n",
                            "        <td>2012-10-08</td>\n",
                            "        <td>00:35:00</td>\n",
                            "        <td>F9 v1.0  B0006</td>\n",
                            "        <td>CCAFS LC-40</td>\n",
                            "        <td>SpaceX CRS-1</td>\n",
                            "        <td>500</td>\n",
                            "        <td>LEO (ISS)</td>\n",
                            "        <td>NASA (CRS)</td>\n",
                            "        <td>Success</td>\n",
                            "        <td>No attempt</td>\n",
                            "    </tr>\n",
                            "    <tr>\n",
                            "        <td>2013-03-01</td>\n",
                            "        <td>15:10:00</td>\n",
                            "        <td>F9 v1.0  B0007</td>\n",
                            "        <td>CCAFS LC-40</td>\n",
                            "        <td>SpaceX CRS-2</td>\n",
                            "        <td>677</td>\n",
                            "        <td>LEO (ISS)</td>\n",
                            "        <td>NASA (CRS)</td>\n",
                            "        <td>Success</td>\n",
                            "        <td>No attempt</td>\n",
                            "    </tr>\n",
                            "</table>"
                        ],
                        "text/plain": [
                            "[(datetime.date(2010, 6, 4), datetime.time(18, 45), 'F9 v1.0  B0003', 'CCAFS LC-40', 'Dragon Spacecraft Qualification Unit', 0, 'LEO', 'SpaceX', 'Success', 'Failure (parachute)'),\n",
                            " (datetime.date(2010, 12, 8), datetime.time(15, 43), 'F9 v1.0  B0004', 'CCAFS LC-40', 'Dragon demo flight C1, two CubeSats, barrel of Brouere cheese', 0, 'LEO (ISS)', 'NASA (COTS) NRO', 'Success', 'Failure (parachute)'),\n",
                            " (datetime.date(2012, 5, 22), datetime.time(7, 44), 'F9 v1.0  B0005', 'CCAFS LC-40', 'Dragon demo flight C2', 525, 'LEO (ISS)', 'NASA (COTS)', 'Success', 'No attempt'),\n",
                            " (datetime.date(2012, 10, 8), datetime.time(0, 35), 'F9 v1.0  B0006', 'CCAFS LC-40', 'SpaceX CRS-1', 500, 'LEO (ISS)', 'NASA (CRS)', 'Success', 'No attempt'),\n",
                            " (datetime.date(2013, 3, 1), datetime.time(15, 10), 'F9 v1.0  B0007', 'CCAFS LC-40', 'SpaceX CRS-2', 677, 'LEO (ISS)', 'NASA (CRS)', 'Success', 'No attempt')]"
                        ]
                    },
                    "execution_count": 19,
                    "metadata": {},
                    "output_type": "execute_result"
                }
            ],
            "source": [
                "%sql SELECT * from SPACEXDATASET WHERE launch_site LIKE 'CCA%' LIMIT 5;"
            ]
        },
        {
            "cell_type": "markdown",
            "metadata": {},
            "source": [
                "\n",
                "##### Display the total payload mass carried by boosters launched by NASA (CRS)\n"
            ]
        },
        {
            "cell_type": "code",
            "execution_count": 43,
            "metadata": {},
            "outputs": [
                {
                    "name": "stdout",
                    "output_type": "stream",
                    "text": [
                        " * ibm_db_sa://qjv10870:***@54a2f15b-5c0f-46df-8954-7e38e612c2bd.c1ogj3sd0tgtu0lqde00.databases.appdomain.cloud:32733/bludb\n",
                        "Done.\n"
                    ]
                },
                {
                    "data": {
                        "text/html": [
                            "<table>\n",
                            "    <tr>\n",
                            "        <th>customer</th>\n",
                            "        <th>total_payload_mass</th>\n",
                            "    </tr>\n",
                            "    <tr>\n",
                            "        <td>NASA (CRS)</td>\n",
                            "        <td>45596</td>\n",
                            "    </tr>\n",
                            "</table>"
                        ],
                        "text/plain": [
                            "[('NASA (CRS)', 45596)]"
                        ]
                    },
                    "execution_count": 43,
                    "metadata": {},
                    "output_type": "execute_result"
                }
            ],
            "source": [
                "%sql select customer, sum(payload_mass__kg_) as Total_Payload_mass from SPACEXDATASET where customer like 'NASA (CRS)' group by customer;"
            ]
        },
        {
            "cell_type": "markdown",
            "metadata": {},
            "source": [
                "\n",
                "##### Display average payload mass carried by booster version F9 v1.1\n"
            ]
        },
        {
            "cell_type": "code",
            "execution_count": 45,
            "metadata": {},
            "outputs": [
                {
                    "name": "stdout",
                    "output_type": "stream",
                    "text": [
                        " * ibm_db_sa://qjv10870:***@54a2f15b-5c0f-46df-8954-7e38e612c2bd.c1ogj3sd0tgtu0lqde00.databases.appdomain.cloud:32733/bludb\n",
                        "Done.\n"
                    ]
                },
                {
                    "data": {
                        "text/html": [
                            "<table>\n",
                            "    <tr>\n",
                            "        <th>booster_version</th>\n",
                            "        <th>avg_payload_masskg</th>\n",
                            "    </tr>\n",
                            "    <tr>\n",
                            "        <td>F9 v1.1</td>\n",
                            "        <td>2928</td>\n",
                            "    </tr>\n",
                            "</table>"
                        ],
                        "text/plain": [
                            "[('F9 v1.1', 2928)]"
                        ]
                    },
                    "execution_count": 45,
                    "metadata": {},
                    "output_type": "execute_result"
                }
            ],
            "source": [
                "%sql select booster_version, AVG(payload_mass__kg_) as Avg_Payload_massKG from SPACEXDATASET WHERE booster_version LIKE 'F9 v1.1' group by booster_version;\n"
            ]
        },
        {
            "cell_type": "markdown",
            "metadata": {},
            "source": [
                "\n",
                "##### List the date when the first successful landing outcome in ground pad was acheived.\n",
                "\n",
                "*Hint:Use min function*\n"
            ]
        },
        {
            "cell_type": "code",
            "execution_count": 46,
            "metadata": {},
            "outputs": [
                {
                    "name": "stdout",
                    "output_type": "stream",
                    "text": [
                        " * ibm_db_sa://qjv10870:***@54a2f15b-5c0f-46df-8954-7e38e612c2bd.c1ogj3sd0tgtu0lqde00.databases.appdomain.cloud:32733/bludb\n",
                        "Done.\n"
                    ]
                },
                {
                    "data": {
                        "text/html": [
                            "<table>\n",
                            "    <tr>\n",
                            "        <th>landing__outcome</th>\n",
                            "    </tr>\n",
                            "    <tr>\n",
                            "        <td>Controlled (ocean)</td>\n",
                            "    </tr>\n",
                            "    <tr>\n",
                            "        <td>Failure</td>\n",
                            "    </tr>\n",
                            "    <tr>\n",
                            "        <td>Failure (drone ship)</td>\n",
                            "    </tr>\n",
                            "    <tr>\n",
                            "        <td>Failure (parachute)</td>\n",
                            "    </tr>\n",
                            "    <tr>\n",
                            "        <td>No attempt</td>\n",
                            "    </tr>\n",
                            "    <tr>\n",
                            "        <td>Precluded (drone ship)</td>\n",
                            "    </tr>\n",
                            "    <tr>\n",
                            "        <td>Success</td>\n",
                            "    </tr>\n",
                            "    <tr>\n",
                            "        <td>Success (drone ship)</td>\n",
                            "    </tr>\n",
                            "    <tr>\n",
                            "        <td>Success (ground pad)</td>\n",
                            "    </tr>\n",
                            "    <tr>\n",
                            "        <td>Uncontrolled (ocean)</td>\n",
                            "    </tr>\n",
                            "</table>"
                        ],
                        "text/plain": [
                            "[('Controlled (ocean)',),\n",
                            " ('Failure',),\n",
                            " ('Failure (drone ship)',),\n",
                            " ('Failure (parachute)',),\n",
                            " ('No attempt',),\n",
                            " ('Precluded (drone ship)',),\n",
                            " ('Success',),\n",
                            " ('Success (drone ship)',),\n",
                            " ('Success (ground pad)',),\n",
                            " ('Uncontrolled (ocean)',)]"
                        ]
                    },
                    "execution_count": 46,
                    "metadata": {},
                    "output_type": "execute_result"
                }
            ],
            "source": [
                "%sql select Distinct landing__outcome from SPACEXDATASET;\n"
            ]
        },
        {
            "cell_type": "code",
            "execution_count": 50,
            "metadata": {},
            "outputs": [
                {
                    "name": "stdout",
                    "output_type": "stream",
                    "text": [
                        " * ibm_db_sa://qjv10870:***@54a2f15b-5c0f-46df-8954-7e38e612c2bd.c1ogj3sd0tgtu0lqde00.databases.appdomain.cloud:32733/bludb\n",
                        "Done.\n"
                    ]
                },
                {
                    "data": {
                        "text/html": [
                            "<table>\n",
                            "    <tr>\n",
                            "        <th>landing__outcome</th>\n",
                            "        <th>first_success_date</th>\n",
                            "    </tr>\n",
                            "    <tr>\n",
                            "        <td>Success (ground pad)</td>\n",
                            "        <td>2015-12-22</td>\n",
                            "    </tr>\n",
                            "</table>"
                        ],
                        "text/plain": [
                            "[('Success (ground pad)', datetime.date(2015, 12, 22))]"
                        ]
                    },
                    "execution_count": 50,
                    "metadata": {},
                    "output_type": "execute_result"
                }
            ],
            "source": [
                "%sql SELECT landing__outcome, MIN(DATE) as First_success_date  FROM SPACEXDATASET WHERE landing__outcome = 'Success (ground pad)' group by landing__outcome;"
            ]
        },
        {
            "cell_type": "markdown",
            "metadata": {},
            "source": [
                "\n",
                "##### List the names of the boosters which have success in drone ship and have payload mass greater than 4000 but less than 6000\n"
            ]
        },
        {
            "cell_type": "code",
            "execution_count": 55,
            "metadata": {},
            "outputs": [
                {
                    "name": "stdout",
                    "output_type": "stream",
                    "text": [
                        " * ibm_db_sa://qjv10870:***@54a2f15b-5c0f-46df-8954-7e38e612c2bd.c1ogj3sd0tgtu0lqde00.databases.appdomain.cloud:32733/bludb\n",
                        "Done.\n"
                    ]
                },
                {
                    "data": {
                        "text/html": [
                            "<table>\n",
                            "    <tr>\n",
                            "        <th>booster_version</th>\n",
                            "        <th>landing__outcome</th>\n",
                            "        <th>payload_mass__kg_</th>\n",
                            "    </tr>\n",
                            "    <tr>\n",
                            "        <td>F9 FT  B1021.2</td>\n",
                            "        <td>Success (drone ship)</td>\n",
                            "        <td>5300</td>\n",
                            "    </tr>\n",
                            "    <tr>\n",
                            "        <td>F9 FT  B1031.2</td>\n",
                            "        <td>Success (drone ship)</td>\n",
                            "        <td>5200</td>\n",
                            "    </tr>\n",
                            "    <tr>\n",
                            "        <td>F9 FT B1022</td>\n",
                            "        <td>Success (drone ship)</td>\n",
                            "        <td>4696</td>\n",
                            "    </tr>\n",
                            "    <tr>\n",
                            "        <td>F9 FT B1026</td>\n",
                            "        <td>Success (drone ship)</td>\n",
                            "        <td>4600</td>\n",
                            "    </tr>\n",
                            "</table>"
                        ],
                        "text/plain": [
                            "[('F9 FT  B1021.2', 'Success (drone ship)', 5300),\n",
                            " ('F9 FT  B1031.2', 'Success (drone ship)', 5200),\n",
                            " ('F9 FT B1022', 'Success (drone ship)', 4696),\n",
                            " ('F9 FT B1026', 'Success (drone ship)', 4600)]"
                        ]
                    },
                    "execution_count": 55,
                    "metadata": {},
                    "output_type": "execute_result"
                }
            ],
            "source": [
                "%sql SELECT DISTINCT(booster_version),landing__outcome, payload_mass__kg_  FROM SPACEXDATASET WHERE (landing__outcome = 'Success (drone ship)') and (payload_mass__kg_ >4000) and  (payload_mass__kg_ <6000) ;"
            ]
        },
        {
            "cell_type": "markdown",
            "metadata": {},
            "source": [
                "\n",
                "\n",
                "##### List the total number of successful and failure mission outcomes\n"
            ]
        },
        {
            "cell_type": "code",
            "execution_count": 59,
            "metadata": {},
            "outputs": [
                {
                    "name": "stdout",
                    "output_type": "stream",
                    "text": [
                        " * ibm_db_sa://qjv10870:***@54a2f15b-5c0f-46df-8954-7e38e612c2bd.c1ogj3sd0tgtu0lqde00.databases.appdomain.cloud:32733/bludb\n",
                        "Done.\n"
                    ]
                },
                {
                    "data": {
                        "text/html": [
                            "<table>\n",
                            "    <tr>\n",
                            "        <th>landing__outcome</th>\n",
                            "        <th>COUNT</th>\n",
                            "    </tr>\n",
                            "    <tr>\n",
                            "        <td>Controlled (ocean)</td>\n",
                            "        <td>5</td>\n",
                            "    </tr>\n",
                            "    <tr>\n",
                            "        <td>Failure</td>\n",
                            "        <td>3</td>\n",
                            "    </tr>\n",
                            "    <tr>\n",
                            "        <td>Failure (drone ship)</td>\n",
                            "        <td>5</td>\n",
                            "    </tr>\n",
                            "    <tr>\n",
                            "        <td>Failure (parachute)</td>\n",
                            "        <td>2</td>\n",
                            "    </tr>\n",
                            "    <tr>\n",
                            "        <td>No attempt</td>\n",
                            "        <td>22</td>\n",
                            "    </tr>\n",
                            "    <tr>\n",
                            "        <td>Precluded (drone ship)</td>\n",
                            "        <td>1</td>\n",
                            "    </tr>\n",
                            "    <tr>\n",
                            "        <td>Success</td>\n",
                            "        <td>38</td>\n",
                            "    </tr>\n",
                            "    <tr>\n",
                            "        <td>Success (drone ship)</td>\n",
                            "        <td>14</td>\n",
                            "    </tr>\n",
                            "    <tr>\n",
                            "        <td>Success (ground pad)</td>\n",
                            "        <td>9</td>\n",
                            "    </tr>\n",
                            "    <tr>\n",
                            "        <td>Uncontrolled (ocean)</td>\n",
                            "        <td>2</td>\n",
                            "    </tr>\n",
                            "</table>"
                        ],
                        "text/plain": [
                            "[('Controlled (ocean)', 5),\n",
                            " ('Failure', 3),\n",
                            " ('Failure (drone ship)', 5),\n",
                            " ('Failure (parachute)', 2),\n",
                            " ('No attempt', 22),\n",
                            " ('Precluded (drone ship)', 1),\n",
                            " ('Success', 38),\n",
                            " ('Success (drone ship)', 14),\n",
                            " ('Success (ground pad)', 9),\n",
                            " ('Uncontrolled (ocean)', 2)]"
                        ]
                    },
                    "execution_count": 59,
                    "metadata": {},
                    "output_type": "execute_result"
                }
            ],
            "source": [
                "%sql SELECT landing__outcome , COUNT(*) AS COUNT FROM SPACEXDATASET GROUP BY landing__outcome;"
            ]
        },
        {
            "cell_type": "markdown",
            "metadata": {},
            "source": [
                "\n",
                "\n",
                "##### List the   names of the booster_versions which have carried the maximum payload mass. Use a subquery\n"
            ]
        },
        {
            "cell_type": "code",
            "execution_count": 70,
            "metadata": {},
            "outputs": [
                {
                    "name": "stdout",
                    "output_type": "stream",
                    "text": [
                        " * ibm_db_sa://qjv10870:***@54a2f15b-5c0f-46df-8954-7e38e612c2bd.c1ogj3sd0tgtu0lqde00.databases.appdomain.cloud:32733/bludb\n",
                        "Done.\n"
                    ]
                },
                {
                    "data": {
                        "text/html": [
                            "<table>\n",
                            "    <tr>\n",
                            "        <th>booster_version</th>\n",
                            "        <th>payload_mass</th>\n",
                            "    </tr>\n",
                            "    <tr>\n",
                            "        <td>F9 B5 B1048.4</td>\n",
                            "        <td>15600</td>\n",
                            "    </tr>\n",
                            "    <tr>\n",
                            "        <td>F9 B5 B1048.5</td>\n",
                            "        <td>15600</td>\n",
                            "    </tr>\n",
                            "    <tr>\n",
                            "        <td>F9 B5 B1049.4</td>\n",
                            "        <td>15600</td>\n",
                            "    </tr>\n",
                            "    <tr>\n",
                            "        <td>F9 B5 B1049.5</td>\n",
                            "        <td>15600</td>\n",
                            "    </tr>\n",
                            "    <tr>\n",
                            "        <td>F9 B5 B1049.7</td>\n",
                            "        <td>15600</td>\n",
                            "    </tr>\n",
                            "    <tr>\n",
                            "        <td>F9 B5 B1051.3</td>\n",
                            "        <td>15600</td>\n",
                            "    </tr>\n",
                            "    <tr>\n",
                            "        <td>F9 B5 B1051.4</td>\n",
                            "        <td>15600</td>\n",
                            "    </tr>\n",
                            "    <tr>\n",
                            "        <td>F9 B5 B1051.6</td>\n",
                            "        <td>15600</td>\n",
                            "    </tr>\n",
                            "    <tr>\n",
                            "        <td>F9 B5 B1056.4</td>\n",
                            "        <td>15600</td>\n",
                            "    </tr>\n",
                            "    <tr>\n",
                            "        <td>F9 B5 B1058.3</td>\n",
                            "        <td>15600</td>\n",
                            "    </tr>\n",
                            "    <tr>\n",
                            "        <td>F9 B5 B1060.2</td>\n",
                            "        <td>15600</td>\n",
                            "    </tr>\n",
                            "    <tr>\n",
                            "        <td>F9 B5 B1060.3</td>\n",
                            "        <td>15600</td>\n",
                            "    </tr>\n",
                            "</table>"
                        ],
                        "text/plain": [
                            "[('F9 B5 B1048.4', 15600),\n",
                            " ('F9 B5 B1048.5', 15600),\n",
                            " ('F9 B5 B1049.4', 15600),\n",
                            " ('F9 B5 B1049.5', 15600),\n",
                            " ('F9 B5 B1049.7', 15600),\n",
                            " ('F9 B5 B1051.3', 15600),\n",
                            " ('F9 B5 B1051.4', 15600),\n",
                            " ('F9 B5 B1051.6', 15600),\n",
                            " ('F9 B5 B1056.4', 15600),\n",
                            " ('F9 B5 B1058.3', 15600),\n",
                            " ('F9 B5 B1060.2', 15600),\n",
                            " ('F9 B5 B1060.3', 15600)]"
                        ]
                    },
                    "execution_count": 70,
                    "metadata": {},
                    "output_type": "execute_result"
                }
            ],
            "source": [
                "%sql SELECT booster_version, MAX(payload_mass__kg_) AS PAYLOAD_MASS FROM SPACEXDATASET where payload_mass__kg_=15600 group by booster_version"
            ]
        },
        {
            "cell_type": "markdown",
            "metadata": {},
            "source": [
                "\n",
                "\n",
                "##### List the failed landing_outcomes in drone ship, their booster versions, and launch site names for in year 2015\n"
            ]
        },
        {
            "cell_type": "code",
            "execution_count": 61,
            "metadata": {},
            "outputs": [
                {
                    "name": "stdout",
                    "output_type": "stream",
                    "text": [
                        " * ibm_db_sa://qjv10870:***@54a2f15b-5c0f-46df-8954-7e38e612c2bd.c1ogj3sd0tgtu0lqde00.databases.appdomain.cloud:32733/bludb\n",
                        "Done.\n"
                    ]
                },
                {
                    "data": {
                        "text/html": [
                            "<table>\n",
                            "    <tr>\n",
                            "        <th>DATE</th>\n",
                            "        <th>time__utc_</th>\n",
                            "        <th>booster_version</th>\n",
                            "        <th>launch_site</th>\n",
                            "        <th>payload</th>\n",
                            "        <th>payload_mass__kg_</th>\n",
                            "        <th>orbit</th>\n",
                            "        <th>customer</th>\n",
                            "        <th>mission_outcome</th>\n",
                            "        <th>landing__outcome</th>\n",
                            "    </tr>\n",
                            "    <tr>\n",
                            "        <td>2010-06-04</td>\n",
                            "        <td>18:45:00</td>\n",
                            "        <td>F9 v1.0  B0003</td>\n",
                            "        <td>CCAFS LC-40</td>\n",
                            "        <td>Dragon Spacecraft Qualification Unit</td>\n",
                            "        <td>0</td>\n",
                            "        <td>LEO</td>\n",
                            "        <td>SpaceX</td>\n",
                            "        <td>Success</td>\n",
                            "        <td>Failure (parachute)</td>\n",
                            "    </tr>\n",
                            "    <tr>\n",
                            "        <td>2010-12-08</td>\n",
                            "        <td>15:43:00</td>\n",
                            "        <td>F9 v1.0  B0004</td>\n",
                            "        <td>CCAFS LC-40</td>\n",
                            "        <td>Dragon demo flight C1, two CubeSats, barrel of Brouere cheese</td>\n",
                            "        <td>0</td>\n",
                            "        <td>LEO (ISS)</td>\n",
                            "        <td>NASA (COTS) NRO</td>\n",
                            "        <td>Success</td>\n",
                            "        <td>Failure (parachute)</td>\n",
                            "    </tr>\n",
                            "    <tr>\n",
                            "        <td>2012-05-22</td>\n",
                            "        <td>07:44:00</td>\n",
                            "        <td>F9 v1.0  B0005</td>\n",
                            "        <td>CCAFS LC-40</td>\n",
                            "        <td>Dragon demo flight C2</td>\n",
                            "        <td>525</td>\n",
                            "        <td>LEO (ISS)</td>\n",
                            "        <td>NASA (COTS)</td>\n",
                            "        <td>Success</td>\n",
                            "        <td>No attempt</td>\n",
                            "    </tr>\n",
                            "    <tr>\n",
                            "        <td>2012-10-08</td>\n",
                            "        <td>00:35:00</td>\n",
                            "        <td>F9 v1.0  B0006</td>\n",
                            "        <td>CCAFS LC-40</td>\n",
                            "        <td>SpaceX CRS-1</td>\n",
                            "        <td>500</td>\n",
                            "        <td>LEO (ISS)</td>\n",
                            "        <td>NASA (CRS)</td>\n",
                            "        <td>Success</td>\n",
                            "        <td>No attempt</td>\n",
                            "    </tr>\n",
                            "    <tr>\n",
                            "        <td>2013-03-01</td>\n",
                            "        <td>15:10:00</td>\n",
                            "        <td>F9 v1.0  B0007</td>\n",
                            "        <td>CCAFS LC-40</td>\n",
                            "        <td>SpaceX CRS-2</td>\n",
                            "        <td>677</td>\n",
                            "        <td>LEO (ISS)</td>\n",
                            "        <td>NASA (CRS)</td>\n",
                            "        <td>Success</td>\n",
                            "        <td>No attempt</td>\n",
                            "    </tr>\n",
                            "</table>"
                        ],
                        "text/plain": [
                            "[(datetime.date(2010, 6, 4), datetime.time(18, 45), 'F9 v1.0  B0003', 'CCAFS LC-40', 'Dragon Spacecraft Qualification Unit', 0, 'LEO', 'SpaceX', 'Success', 'Failure (parachute)'),\n",
                            " (datetime.date(2010, 12, 8), datetime.time(15, 43), 'F9 v1.0  B0004', 'CCAFS LC-40', 'Dragon demo flight C1, two CubeSats, barrel of Brouere cheese', 0, 'LEO (ISS)', 'NASA (COTS) NRO', 'Success', 'Failure (parachute)'),\n",
                            " (datetime.date(2012, 5, 22), datetime.time(7, 44), 'F9 v1.0  B0005', 'CCAFS LC-40', 'Dragon demo flight C2', 525, 'LEO (ISS)', 'NASA (COTS)', 'Success', 'No attempt'),\n",
                            " (datetime.date(2012, 10, 8), datetime.time(0, 35), 'F9 v1.0  B0006', 'CCAFS LC-40', 'SpaceX CRS-1', 500, 'LEO (ISS)', 'NASA (CRS)', 'Success', 'No attempt'),\n",
                            " (datetime.date(2013, 3, 1), datetime.time(15, 10), 'F9 v1.0  B0007', 'CCAFS LC-40', 'SpaceX CRS-2', 677, 'LEO (ISS)', 'NASA (CRS)', 'Success', 'No attempt')]"
                        ]
                    },
                    "execution_count": 61,
                    "metadata": {},
                    "output_type": "execute_result"
                }
            ],
            "source": [
                "%sql SELECT * from SPACEXDATASET WHERE launch_site LIKE 'CCA%' LIMIT 5;"
            ]
        },
        {
            "cell_type": "code",
            "execution_count": 64,
            "metadata": {},
            "outputs": [
                {
                    "name": "stdout",
                    "output_type": "stream",
                    "text": [
                        " * ibm_db_sa://qjv10870:***@54a2f15b-5c0f-46df-8954-7e38e612c2bd.c1ogj3sd0tgtu0lqde00.databases.appdomain.cloud:32733/bludb\n",
                        "Done.\n"
                    ]
                },
                {
                    "data": {
                        "text/html": [
                            "<table>\n",
                            "    <tr>\n",
                            "        <th>landing__outcome</th>\n",
                            "        <th>booster_version</th>\n",
                            "        <th>launch_site</th>\n",
                            "        <th>DATE</th>\n",
                            "    </tr>\n",
                            "    <tr>\n",
                            "        <td>Failure (drone ship)</td>\n",
                            "        <td>F9 v1.1 B1012</td>\n",
                            "        <td>CCAFS LC-40</td>\n",
                            "        <td>2015-01-10</td>\n",
                            "    </tr>\n",
                            "    <tr>\n",
                            "        <td>Failure (drone ship)</td>\n",
                            "        <td>F9 v1.1 B1015</td>\n",
                            "        <td>CCAFS LC-40</td>\n",
                            "        <td>2015-04-14</td>\n",
                            "    </tr>\n",
                            "</table>"
                        ],
                        "text/plain": [
                            "[('Failure (drone ship)', 'F9 v1.1 B1012', 'CCAFS LC-40', datetime.date(2015, 1, 10)),\n",
                            " ('Failure (drone ship)', 'F9 v1.1 B1015', 'CCAFS LC-40', datetime.date(2015, 4, 14))]"
                        ]
                    },
                    "execution_count": 64,
                    "metadata": {},
                    "output_type": "execute_result"
                }
            ],
            "source": [
                "%sql SELECT landing__outcome, booster_version , launch_site, DATE FROM SPACEXDATASET WHERE (landing__outcome like 'Failure (drone ship)') and DATE BETWEEN '2015-01-01' AND '2015-12-31' ORDER BY DATE;"
            ]
        },
        {
            "cell_type": "markdown",
            "metadata": {},
            "source": [
                "\n",
                "\n",
                "##### Rank the count of landing outcomes (such as Failure (drone ship) or Success (ground pad)) between the date 2010-06-04 and 2017-03-20, in descending order\n"
            ]
        },
        {
            "cell_type": "code",
            "execution_count": 92,
            "metadata": {},
            "outputs": [
                {
                    "name": "stdout",
                    "output_type": "stream",
                    "text": [
                        " * ibm_db_sa://qjv10870:***@54a2f15b-5c0f-46df-8954-7e38e612c2bd.c1ogj3sd0tgtu0lqde00.databases.appdomain.cloud:32733/bludb\n",
                        "Done.\n"
                    ]
                },
                {
                    "data": {
                        "text/html": [
                            "<table>\n",
                            "    <tr>\n",
                            "        <th>RANK</th>\n",
                            "        <th>landing__outcome</th>\n",
                            "        <th>COUNT</th>\n",
                            "    </tr>\n",
                            "    <tr>\n",
                            "        <td>1</td>\n",
                            "        <td>No attempt</td>\n",
                            "        <td>10</td>\n",
                            "    </tr>\n",
                            "    <tr>\n",
                            "        <td>2</td>\n",
                            "        <td>Failure (drone ship)</td>\n",
                            "        <td>5</td>\n",
                            "    </tr>\n",
                            "    <tr>\n",
                            "        <td>2</td>\n",
                            "        <td>Success (drone ship)</td>\n",
                            "        <td>5</td>\n",
                            "    </tr>\n",
                            "    <tr>\n",
                            "        <td>4</td>\n",
                            "        <td>Controlled (ocean)</td>\n",
                            "        <td>3</td>\n",
                            "    </tr>\n",
                            "    <tr>\n",
                            "        <td>4</td>\n",
                            "        <td>Success (ground pad)</td>\n",
                            "        <td>3</td>\n",
                            "    </tr>\n",
                            "    <tr>\n",
                            "        <td>6</td>\n",
                            "        <td>Failure (parachute)</td>\n",
                            "        <td>2</td>\n",
                            "    </tr>\n",
                            "    <tr>\n",
                            "        <td>6</td>\n",
                            "        <td>Uncontrolled (ocean)</td>\n",
                            "        <td>2</td>\n",
                            "    </tr>\n",
                            "    <tr>\n",
                            "        <td>8</td>\n",
                            "        <td>Precluded (drone ship)</td>\n",
                            "        <td>1</td>\n",
                            "    </tr>\n",
                            "</table>"
                        ],
                        "text/plain": [
                            "[(1, 'No attempt', 10),\n",
                            " (2, 'Failure (drone ship)', 5),\n",
                            " (2, 'Success (drone ship)', 5),\n",
                            " (4, 'Controlled (ocean)', 3),\n",
                            " (4, 'Success (ground pad)', 3),\n",
                            " (6, 'Failure (parachute)', 2),\n",
                            " (6, 'Uncontrolled (ocean)', 2),\n",
                            " (8, 'Precluded (drone ship)', 1)]"
                        ]
                    },
                    "execution_count": 92,
                    "metadata": {},
                    "output_type": "execute_result"
                }
            ],
            "source": [
                "%%sql SELECT RANK() OVER(ORDER BY COUNT(landing__outcome) desc) Rank,landing__outcome,  COUNT(landing__outcome)  AS COUNT FROM SPACEXDATASET \n",
                "WHERE (DATE BETWEEN '2010-06-04' AND '2017-03-20')\n",
                "GROUP BY (landing__outcome) \n",
                "ORDER BY COUNT(landing__outcome) DESC;"
            ]
        }
    ],
    "metadata": {
        "kernelspec": {
            "display_name": "Python 3.8",
            "language": "python",
            "name": "python3"
        },
        "language_info": {
            "codemirror_mode": {
                "name": "ipython",
                "version": 3
            },
            "file_extension": ".py",
            "mimetype": "text/x-python",
            "name": "python",
            "nbconvert_exporter": "python",
            "pygments_lexer": "ipython3",
            "version": "3.9.7"
        }
    },
    "nbformat": 4,
    "nbformat_minor": 4
}
